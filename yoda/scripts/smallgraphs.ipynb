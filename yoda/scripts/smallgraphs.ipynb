{
 "cells": [
  {
   "cell_type": "code",
   "execution_count": null,
   "id": "819e96c0-7a22-4165-b26b-94661af56e22",
   "metadata": {},
   "outputs": [],
   "source": [
    "\n",
    "%load_ext autoreload\n",
    "%autoreload 2\n",
    "%matplotlib inline\n",
    "import smallgraph as sg\n",
    "import networkx as nx\n",
    "from matplotlib import pyplot as plt"
   ]
  },
  {
   "cell_type": "code",
   "execution_count": null,
   "id": "3ad0d3e4-583a-4e43-99fc-bd349a311be4",
   "metadata": {},
   "outputs": [],
   "source": [
    "a,l, te = sg.makedata()"
   ]
  },
  {
   "cell_type": "code",
   "execution_count": null,
   "id": "6d82b38d-cd81-4b7c-ad03-e5c2e1b351e3",
   "metadata": {},
   "outputs": [],
   "source": [
    "g = sg.abstract(a[8])\n",
    "import eden.display as ed\n",
    "# nx.draw_networkx(g, labels = {n:f\"{n}{d['label']}\" for n,d in g.nodes(data=True)} )\n",
    "ed.draw_graph(g)\n",
    "plt.show()"
   ]
  },
  {
   "cell_type": "code",
   "execution_count": null,
   "id": "2628f373-bcc2-4fe4-b66a-7e23047b5312",
   "metadata": {},
   "outputs": [],
   "source": [
    "g = sg.abstract(a[8])\n",
    "import eden.display as ed\n",
    "# nx.draw_networkx(g, labels = {n:f\"{n}{d['label']}\" for n,d in g.nodes(data=True)} )\n",
    "ed.draw_graph(a[8].graph)\n",
    "plt.show()"
   ]
  },
  {
   "cell_type": "code",
   "execution_count": null,
   "id": "71054cc2-8db6-4a5b-8294-70dae44d865c",
   "metadata": {},
   "outputs": [],
   "source": [
    "from ubergauss import optimization as op\n",
    "z= op.gridsearch(sg.evaleval, sg.space, taskfilter=sg.taskfilter, data= [a, l])"
   ]
  },
  {
   "cell_type": "code",
   "execution_count": null,
   "id": "91504ba0-7e3f-452e-8f11-27ae24b59d18",
   "metadata": {},
   "outputs": [],
   "source": [
    "import seaborn as sns\n",
    "sns.pairplot(z, hue='score')\n",
    "plt.show()"
   ]
  },
  {
   "cell_type": "code",
   "execution_count": null,
   "id": "5a5f7292-ec27-4d4d-b7ee-2607ff5bcfd9",
   "metadata": {},
   "outputs": [],
   "source": []
  }
 ],
 "metadata": {
  "kernelspec": {
   "display_name": "Python 3 (ipykernel)",
   "language": "python",
   "name": "python3"
  },
  "language_info": {
   "codemirror_mode": {
    "name": "ipython",
    "version": 3
   },
   "file_extension": ".py",
   "mimetype": "text/x-python",
   "name": "python",
   "nbconvert_exporter": "python",
   "pygments_lexer": "ipython3"
  }
 },
 "nbformat": 4,
 "nbformat_minor": 5
}
