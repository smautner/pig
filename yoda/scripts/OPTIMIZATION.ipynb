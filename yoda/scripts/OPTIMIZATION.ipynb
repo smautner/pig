{
 "cells": [
  {
   "cell_type": "code",
   "execution_count": null,
   "id": "bb8e20f7-d090-4992-a99a-5c02f77a7613",
   "metadata": {},
   "outputs": [],
   "source": [
    "%load_ext autoreload\n",
    "%autoreload 2\n",
    "%matplotlib inline\n",
    "import smallgraph as sg\n",
    "import networkx as nx\n",
    "from matplotlib import pyplot as plt\n",
    "import lmz\n",
    "import eden.graph as eg\n",
    "import eden.display as ed\n",
    "from yoda.graphs import ali2graph\n",
    "import numpy as np\n",
    "import yoda.ml.simpleMl as sml\n",
    "import eden.display as ed\n",
    "from yoda.alignments import load_rfam, filter_by_seqcount"
   ]
  },
  {
   "cell_type": "code",
   "execution_count": null,
   "id": "6d0e4bac-4829-4074-963d-6b62f1782edb",
   "metadata": {},
   "outputs": [],
   "source": [
    "import pandas as pd\n",
    "import numpy as np\n",
    "import seaborn as sns\n",
    "from sklearn.preprocessing import normalize\n",
    "from sklearn.metrics import euclidean_distances\n",
    "from sklearn.preprocessing import StandardScaler\n",
    "from kiez import Kiez \n",
    "from ubergauss import tools as ut\n",
    "from ubergauss import optimization as op\n",
    "import yoda.ml.simpleMl as sml\n",
    "import yoda.ml.distances as yodadist"
   ]
  },
  {
   "cell_type": "code",
   "execution_count": null,
   "id": "575bb567-a282-42c7-8fee-3893d848b47a",
   "metadata": {},
   "outputs": [],
   "source": [
    "sg.string_to_paramd( yodadist.params)"
   ]
  },
  {
   "cell_type": "code",
   "execution_count": null,
   "id": "88cff557-7df8-4a60-977d-2368ab073946",
   "metadata": {},
   "outputs": [],
   "source": [
    "\n",
    "\n",
    "\n",
    "from yoda.graphs import alignment_to_vectors\n",
    "\n",
    "hub_methods =  ['csls', 'dissimlocal', 'localscaling', 'mutualproximity', 'norm', 'no']\n",
    "hub_methods =  ['csls']\n",
    "\n",
    "def eval(alis,labels,\n",
    "         matrix = None,\n",
    "         ct = .97,\n",
    "         RYthresh = 0,\n",
    "         norm = True, \n",
    "         d1 = .25,\n",
    "         d2= .75,\n",
    "         bad_weight = 0.15,\n",
    "         fix_edges = True,\n",
    "         # boost_range = 3, boost_thresh = .5, boost_weight = 1,\n",
    "         min_r = 2, \n",
    "         maxclust =10,\n",
    "         nest = True,\n",
    "         simplegraph = False,\n",
    "         hub_methods=hub_methods,\n",
    "         clusterSize = 0,\n",
    "         pca = 0,\n",
    "         metric = 'euclidean',\n",
    "         kiezMethod = 'csls',\n",
    "         kiezK = 5,\n",
    "         min_d = 1,**nothingtosee):\n",
    "\n",
    "    if matrix is None:\n",
    "        matrix = alignment_to_vectors(alis, RYthresh=RYthresh,d1=d1,d2=d2,\n",
    "                                  fix_edges=fix_edges,ct=ct,bad_weight=bad_weight,\n",
    "                                  min_r=min_r, min_d= min_d,normalization=norm,\n",
    "                                  inner_normalization=True,clusterSize=clusterSize,\n",
    "                                  nest=nest,simplegraph=simplegraph,maxclust=maxclust )\n",
    "\n",
    "    '''\n",
    "    # ret= sml.knn_accuracy(matrix,labels)\n",
    "    # ret = sml.knn_accuracy(matrix,labels)\n",
    "    dist = 1- (matrix @ matrix.T).toarray()\n",
    "    dist[dist<0] =0\n",
    "\n",
    "    def make_score(method,dist,labels):\n",
    "        if method == 'norm':\n",
    "            # here we want to just normalize by cloumn... \n",
    "            # so we overwrite the distances and tell kiez to not apply itsmethods\n",
    "            dist = normalize(dist, axis=0) \n",
    "            method = 'no' \n",
    "        k_inst = Kiez(algorithm='SklearnNN', hubness=method, n_candidates = 40,  algorithm_kwargs= {'metric' : 'precomputed'})\n",
    "        k_inst.fit(dist)\n",
    "        dist, neigh_ind = k_inst.kneighbors()\n",
    "        return sml.average_precision_limited(dist,neigh_ind,labels)\n",
    "    # print(dist,neigh_ind,labels)\n",
    "    # ret = sml.average_precision(dist,labels)\n",
    "    # ret = sml.average_precision_limited(dist,neigh_ind,labels)\n",
    "    # ret = {method:make_score(method,dist,labels) for method in hub_methods}\n",
    "    # ret = {'score': ret,   'score_knn': sml.knn_accuracy(matrix,labels,4),  'score_ari': sml.kmeans_ari(matrix, labels)}\n",
    "    # return ret\n",
    "    '''\n",
    "    dist,neigh_ind =  yodadist.mkdistances( matrix, pca, metric, kiezMethod, kiezK)\n",
    "    return sml.average_precision_limited(dist,neigh_ind,labels)\n",
    "\n",
    "\n",
    "\n",
    "\n",
    "space = '''min_r 0 3 1\n",
    "min_d 0 3 1\n",
    "fix_edges 0 1 1\n",
    "ct .6 1\n",
    "d1 0 1\n",
    "d2 0 1\n",
    "clusterSize 0 40 5\n",
    "bad_weight 0 .3'''\n",
    "\n",
    "# a,l, te = sg.makedata()\n",
    "\n",
    "#eval(a,l,**{'min_d': 2, 'nest': 1})\n",
    "a,l = sg.makedata(splits=0)\n",
    "matrix = alignment_to_vectors(a)\n"
   ]
  },
  {
   "cell_type": "code",
   "execution_count": null,
   "id": "baba8bc655c1095c",
   "metadata": {},
   "outputs": [],
   "source": [
    "space = sg.string_to_space(yodadist.params)\n",
    "parameters = [space.sample() for i in range(50)]\n",
    "parameters"
   ]
  },
  {
   "cell_type": "code",
   "execution_count": null,
   "id": "90f421c03a743d92",
   "metadata": {},
   "outputs": [],
   "source": [
    "results"
   ]
  },
  {
   "cell_type": "code",
   "execution_count": null,
   "id": "8a31489bbf075974",
   "metadata": {},
   "outputs": [],
   "source": [
    "\n",
    "#data = sg.makedata(splits=0)\n",
    "results = op.gridsearch(eval, tasks =  parameters , data=(a,l,matrix), mp=True)\n",
    "\n",
    "results"
   ]
  },
  {
   "cell_type": "code",
   "execution_count": null,
   "id": "4622fe266083ea16",
   "metadata": {},
   "outputs": [],
   "source": [
    "results.sort_values(by='time', ascending=False).head(100)"
   ]
  },
  {
   "cell_type": "code",
   "execution_count": null,
   "id": "da42cd043ae2a4fe",
   "metadata": {},
   "outputs": [],
   "source": [
    "\n",
    "#sns.pairplot(results, hue='score')\n",
    "results.corr()"
   ]
  },
  {
   "cell_type": "code",
   "execution_count": null,
   "id": "c25a4189-f221-435a-b454-d0703308a831",
   "metadata": {},
   "outputs": [],
   "source": [
    "%%time\n",
    "datas  = [sg.makedata(splits=3)[:2]]\n",
    "\n",
    "\n",
    "# datas   = [sg.makedata(splits=3)[:2] for x in range(3) ]\n",
    "# datas = [(ali2graph.multiGraph(a),l) for a,l in datas ]\n"
   ]
  },
  {
   "cell_type": "code",
   "execution_count": null,
   "id": "58b9640a-80d7-4325-be0c-7ee9b8a91301",
   "metadata": {},
   "outputs": [],
   "source": [
    "%%time\n",
    "parameters = {'clusterSize':10, 'simplegraph':0 , 'maxclust':10, 'fix_edges':True}\n",
    "eval(*datas[0], **parameters)\n",
    "# 475"
   ]
  },
  {
   "cell_type": "code",
   "execution_count": null,
   "id": "b7fd8977-15f4-40e0-9697-b6ec83b462eb",
   "metadata": {},
   "outputs": [],
   "source": [
    "%%time\n",
    "parameters = {'clusterSize':[0,15], 'simplegraph':[0,1] , 'maxclust':[10]}\n",
    "# results = [op.gridsearch(eval, tasks =  parameters , data=data, mp=True)  for data in datas]\n",
    "\n",
    "results = op.gridsearch(eval, param_dict =  parameters , data=datas[0], mp=True)\n",
    "# results = [ op.gridsearch(eval, param_dict =  parameters , data=data , mp=True) for data in datas];results = pd.concat(results)"
   ]
  },
  {
   "cell_type": "code",
   "execution_count": null,
   "id": "55bb86ac-7248-4640-856d-0817911e1670",
   "metadata": {},
   "outputs": [],
   "source": [
    "if False:\n",
    "    resultsXX = pd.concat(resultsXXX+results4)\n",
    "    results5c = pd.concat(results5)\n",
    "    sns.pairplot(resultsXX)\n",
    "    resultsXX.sort_values(by='csls', ascending=False).head(20)\n",
    "    sns.lineplot(resultsXX, x= 'clusterSize', y='csls',label= 'conserved columns weighted')\n",
    "    sns.lineplot(results5c, x= 'clusterSize', y='csls', label='unweighted')"
   ]
  },
  {
   "cell_type": "code",
   "execution_count": null,
   "id": "5e7f9354-347c-4489-8b5b-c084dca7aefe",
   "metadata": {},
   "outputs": [],
   "source": [
    "# results = pd.concat(results)\n",
    "results.sort_values(by='csls', ascending=False).head(20)\n",
    "\n",
    "sns.lineplot(results, x= 'clusterSize', y='csls', hue= 'simplegraph')"
   ]
  },
  {
   "cell_type": "code",
   "execution_count": null,
   "id": "ea522e6c-7a41-4418-9d68-43abe80d5473",
   "metadata": {},
   "outputs": [],
   "source": [
    "\n",
    "sns.pairplot(results, hue='score')\n"
   ]
  },
  {
   "cell_type": "code",
   "execution_count": null,
   "id": "80116398-4a3f-411f-9eb1-b59eb8de9ceb",
   "metadata": {},
   "outputs": [],
   "source": []
  },
  {
   "cell_type": "code",
   "execution_count": null,
   "id": "de87695c-7062-4b8c-bf22-9d309f7010d1",
   "metadata": {},
   "outputs": [],
   "source": [
    "space_dict = sg.string_to_space(space)\n",
    "parameters = [space_dict.sample() for i in range(2)]\n",
    "data = sg.makedata(splits=0)\n",
    "results = op.gridsearch(eval, tasks =  parameters , data=data, mp=False) "
   ]
  },
  {
   "cell_type": "code",
   "execution_count": null,
   "id": "d43327b1-3802-4980-92e5-4beaac9e87f9",
   "metadata": {},
   "outputs": [],
   "source": [
    "results.sort_values(by='csls', ascending=False).head(20)"
   ]
  },
  {
   "cell_type": "code",
   "execution_count": null,
   "id": "0505ac2b-b680-4c95-8b9f-9d3a9c08b3ee",
   "metadata": {},
   "outputs": [],
   "source": [
    "plt.figure(figsize=(10, 6))\n",
    "for column in hub_methods:  # Replace with your actual column names\n",
    "    sns.kdeplot(data=results[column], label=column)\n",
    "plt.legend()"
   ]
  },
  {
   "cell_type": "code",
   "execution_count": null,
   "id": "7c8fe03e-da9b-4bce-b273-7529b34dfd14",
   "metadata": {},
   "outputs": [],
   "source": []
  },
  {
   "cell_type": "code",
   "execution_count": null,
   "id": "0c787f5f-3ae7-4b0f-8f71-144f2fd47643",
   "metadata": {},
   "outputs": [],
   "source": [
    "\n",
    "\n",
    "space = '''d1 0 1\n",
    "d2 0 1\n",
    "'''\n",
    "\n",
    "# a,l, te = sg.makedata()\n",
    "\n",
    "#eval(a,l,**{'min_d': 2, 'nest': 1})\n",
    "space_dict = sg.string_to_space(space)\n",
    "parameters = [space_dict.sample() for i in range(100)]\n",
    "data = sg.makedata(splits=0)\n",
    "for t in parameters:\n",
    "    t['hub_methods']=['csls']\n",
    "results = op.gridsearch(eval, tasks =  parameters , data=data, mp=True) \n",
    "results.sort_values(by='csls', ascending=False).head(100)"
   ]
  },
  {
   "cell_type": "code",
   "execution_count": null,
   "id": "9c715dd1-5681-48da-be51-17d0b70064a6",
   "metadata": {},
   "outputs": [],
   "source": [
    "sns.pairplot(results)"
   ]
  },
  {
   "cell_type": "code",
   "execution_count": null,
   "id": "8dd1268e-31b3-48be-9f34-c047dd67733c",
   "metadata": {},
   "outputs": [],
   "source": [
    "results.sort_values(by='csls', ascending=False).head(100)"
   ]
  },
  {
   "cell_type": "code",
   "execution_count": null,
   "id": "3e0cdf1f-eb22-4f90-b9b9-586be4276d4f",
   "metadata": {},
   "outputs": [],
   "source": [
    "\n",
    "def rank_columns_and_average(df, columns):\n",
    "    # Subset the dataframe to include only the specified columns\n",
    "    subset_df = df[columns]\n",
    "    # Rank the values row-wise\n",
    "    ranked_df = subset_df.rank(axis=1)\n",
    "    # Calculate the average rank for each column\n",
    "    avg_ranks = ranked_df.mean().to_dict()\n",
    "    # Create a list of pairs (column name, average rank)\n",
    "    result = [(col, avg_ranks[col]) for col in columns]\n",
    "    return result\n",
    "\n",
    "\n",
    "rank_columns_and_average(results,['csls', 'dissimlocal', 'localscaling', 'mutualproximity', 'norm', 'no'])"
   ]
  },
  {
   "cell_type": "code",
   "execution_count": null,
   "id": "7981ba24-81ab-4f37-a069-88d0cfb902a7",
   "metadata": {},
   "outputs": [],
   "source": []
  },
  {
   "cell_type": "code",
   "execution_count": null,
   "id": "db6355db-a0de-46b9-950b-39217946257a",
   "metadata": {},
   "outputs": [],
   "source": []
  },
  {
   "cell_type": "code",
   "execution_count": null,
   "id": "b001baea-8e53-4745-8d78-f342b1cde023",
   "metadata": {},
   "outputs": [],
   "source": [
    "data_all = [sg.makedata() for i in range(REPEATS)]\n",
    "datasets = [d[:2] for d in data_all]\n",
    "test_sets = [d[2] for d in data_all]\n"
   ]
  },
  {
   "cell_type": "code",
   "execution_count": null,
   "id": "af727ab7-0f17-49b6-b9f2-79832306bc6d",
   "metadata": {},
   "outputs": [],
   "source": [
    "test_sets, datasets = datasets, test_sets"
   ]
  },
  {
   "cell_type": "code",
   "execution_count": null,
   "id": "323355d8-b74b-4058-b0cd-1aa6481369ba",
   "metadata": {},
   "outputs": [],
   "source": [
    "space = sg.string_to_space(space)\n",
    "parameters = [space.sample() for i in range(PARAMS)]"
   ]
  },
  {
   "cell_type": "code",
   "execution_count": null,
   "id": "14e26bed-aed2-4a5a-ba76-d8f0345bd411",
   "metadata": {},
   "outputs": [],
   "source": [
    "\n",
    "results = [ op.gridsearch(eval, parameters , tasks = parameters , data= [a,l], mp=True)  for a,l in datasets]\n"
   ]
  },
  {
   "cell_type": "code",
   "execution_count": null,
   "id": "c1ba908a-8870-4993-9a12-789a359f5dbc",
   "metadata": {},
   "outputs": [],
   "source": []
  },
  {
   "cell_type": "code",
   "execution_count": null,
   "id": "c498c943-3a81-471b-9cdc-0c40fc1c70ac",
   "metadata": {},
   "outputs": [],
   "source": []
  },
  {
   "cell_type": "code",
   "execution_count": null,
   "id": "68f784bb-fadd-43bd-852d-0d59b96cc32b",
   "metadata": {},
   "outputs": [],
   "source": [
    "def train_test_error(results):\n",
    "    for i,df in enumerate(results):\n",
    "        # in all the dfs, we only look at the max value up to index\n",
    "        df['max_score'] = df['score'].expanding().max()\n",
    "        # when a value changes, calculate the test error \n",
    "        score_changes = df['max_score'].diff().ne(0)\n",
    "        top_score_rows = df[score_changes]\n",
    "        top_score_dicts = top_score_rows.to_dict('records')\n",
    "        nures =  op.gridsearch(eval, parameters , tasks = top_score_dicts , data= test_sets[i], mp=True) \n",
    "\n",
    "\n",
    "        def outer_pointget():\n",
    "            idx = -1\n",
    "            def pointget(z):\n",
    "                nonlocal idx\n",
    "                if z:\n",
    "                    idx += 1\n",
    "                return nures['score'][idx]\n",
    "            return pointget\n",
    "        pointget= outer_pointget()     \n",
    "        df['test_score'] = [ pointget(e) for e in score_changes ] \n",
    "\n",
    "train_test_error(results)\n"
   ]
  },
  {
   "cell_type": "code",
   "execution_count": null,
   "id": "fad507c9-5e02-4f50-bd87-93a6e0090365",
   "metadata": {},
   "outputs": [],
   "source": [
    "# make a lineplot \n",
    "sns.set_theme()\n",
    "sns.set_context(\"talk\")\n",
    "\n",
    "merged_df = pd.concat(results)\n",
    "sns.lineplot(data = merged_df,x=merged_df.index, y = 'max_score', label ='train score')\n",
    "sns.lineplot(data = merged_df,x=merged_df.index, y = 'test_score', label ='test score')"
   ]
  },
  {
   "cell_type": "code",
   "execution_count": null,
   "id": "69093295-448d-4d72-8c2b-60b266861086",
   "metadata": {},
   "outputs": [],
   "source": [
    "df  = merged_df\n",
    "top_score_idx = df['score'].idxmax()\n",
    "top_score_row = df.loc[top_score_idx]\n",
    "top_score_dict = top_score_row.to_dict()"
   ]
  },
  {
   "cell_type": "code",
   "execution_count": null,
   "id": "9d38e4c7-90a0-4439-a790-550ee8b7c89e",
   "metadata": {},
   "outputs": [],
   "source": [
    "top_score_dict"
   ]
  },
  {
   "cell_type": "code",
   "execution_count": null,
   "id": "5b074a05-f88f-4c24-91cd-3d7640e5ec47",
   "metadata": {},
   "outputs": [],
   "source": [
    "import pandas as pd\n",
    "x = 5\n",
    "\n",
    "top_dfs = [df.sort_values('score', ascending=False).head(x) for df in results]\n",
    "merged_df = pd.concat(top_dfs)\n",
    "merged_df"
   ]
  },
  {
   "cell_type": "code",
   "execution_count": null,
   "id": "5a452431-3014-4f7a-8fa8-c932b4c02970",
   "metadata": {},
   "outputs": [],
   "source": [
    "merged_df = pd.concat(results)\n",
    "merged_df.corr()"
   ]
  },
  {
   "cell_type": "code",
   "execution_count": null,
   "id": "f8f8e781-c18d-4747-81a0-5cffe4415044",
   "metadata": {},
   "outputs": [],
   "source": [
    "df.groupby('min_r')['score'].mean()"
   ]
  },
  {
   "cell_type": "code",
   "execution_count": null,
   "id": "b3e58b47-db5e-4519-9960-5d0a1482fb47",
   "metadata": {},
   "outputs": [],
   "source": []
  }
 ],
 "metadata": {
  "kernelspec": {
   "display_name": "Python 3 (ipykernel)",
   "language": "python",
   "name": "python3"
  },
  "language_info": {
   "codemirror_mode": {
    "name": "ipython",
    "version": 3
   },
   "file_extension": ".py",
   "mimetype": "text/x-python",
   "name": "python",
   "nbconvert_exporter": "python",
   "pygments_lexer": "ipython3"
  }
 },
 "nbformat": 4,
 "nbformat_minor": 5
}
