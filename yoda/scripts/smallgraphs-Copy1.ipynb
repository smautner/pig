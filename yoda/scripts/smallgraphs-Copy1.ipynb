{
 "cells": [
  {
   "cell_type": "code",
   "execution_count": null,
   "id": "819e96c0-7a22-4165-b26b-94661af56e22",
   "metadata": {},
   "outputs": [],
   "source": [
    "\n",
    "%load_ext autoreload\n",
    "%autoreload 2\n",
    "%matplotlib inline\n",
    "import smallgraph as sg\n",
    "import networkx as nx\n",
    "from matplotlib import pyplot as plt"
   ]
  },
  {
   "cell_type": "code",
   "execution_count": null,
   "id": "3ad0d3e4-583a-4e43-99fc-bd349a311be4",
   "metadata": {},
   "outputs": [],
   "source": [
    "a,l, te = sg.makedata()\n"
   ]
  },
  {
   "cell_type": "code",
   "execution_count": null,
   "id": "1eac82d7-6e69-406c-86f8-843d900555ba",
   "metadata": {},
   "outputs": [],
   "source": [
    "# g = sg.abstract(a[0])\n",
    "\n",
    "param = {'RY_thresh': 0.0, 'cons_thresh': 0.8, \n",
    "             'cutD1': 2.0, 'cutD2': 35.0, 'cutS1': 17.0, 'cutS2': 38.0, \n",
    "             'dillution_fac1': 0.9740452168512836, 'dillution_fac2': 0.9286905734648928} \n",
    "id = 1\n",
    "g = sg.get_coarse(a[id],**param)\n",
    "import eden.display as ed\n",
    "ed.draw_graph(g)\n",
    "plt.show()\n",
    "print(a[id])"
   ]
  },
  {
   "cell_type": "code",
   "execution_count": null,
   "id": "e0976c3b-1767-4365-86ff-42a2b0ab558c",
   "metadata": {},
   "outputs": [],
   "source": [
    "# g = sg.abstract(a[0])\n",
    "\n",
    "optimized = {'RY_thresh': 0.5776457964336089, 'cons_thresh': 0.9, \n",
    "             'cutD1': 2.0, 'cutD2': 35.0, 'cutS1': 17.0, 'cutS2': 38.0, \n",
    "             'dillution_fac1': 0.9740452168512836, 'dillution_fac2': 0.9286905734648928}\n",
    "\n",
    "g = sg.get_coarse(a[67],**optimized)\n",
    "import eden.display as ed\n",
    "ed.draw_graph(g)\n",
    "plt.show()\n",
    "print(a[67])"
   ]
  },
  {
   "cell_type": "code",
   "execution_count": null,
   "id": "71054cc2-8db6-4a5b-8294-70dae44d865c",
   "metadata": {},
   "outputs": [],
   "source": [
    "from ubergauss import optimization as op\n",
    "z= op.gridsearch(sg.evaleval, sg.space, tasks = [sg.space.sample() for i in range(1000)], taskfilter=sg.taskfilter, data= [a, l])"
   ]
  },
  {
   "cell_type": "code",
   "execution_count": null,
   "id": "91504ba0-7e3f-452e-8f11-27ae24b59d18",
   "metadata": {},
   "outputs": [],
   "source": [
    "import seaborn as sns\n",
    "sns.pairplot(z, hue='score')\n",
    "plt.show()"
   ]
  },
  {
   "cell_type": "code",
   "execution_count": null,
   "id": "5a5f7292-ec27-4d4d-b7ee-2607ff5bcfd9",
   "metadata": {},
   "outputs": [],
   "source": [
    "z.corr()"
   ]
  },
  {
   "cell_type": "code",
   "execution_count": null,
   "id": "590644a5-1618-4e66-b778-7664d64c0bd7",
   "metadata": {},
   "outputs": [],
   "source": [
    "sg.uo.get_best(z)"
   ]
  },
  {
   "cell_type": "code",
   "execution_count": null,
   "id": "77be5b6f-ab49-4421-a094-2f0cb506b90c",
   "metadata": {},
   "outputs": [],
   "source": [
    "sg.evaleval(*te, **kwargs)"
   ]
  },
  {
   "cell_type": "code",
   "execution_count": null,
   "id": "ac5548d0-c804-4b1a-a7c1-bb4d0bbc2cdc",
   "metadata": {},
   "outputs": [],
   "source": [
    "# list(filter(sg.taskfilter, [sg.space.sample() for i in range(11)]))\n",
    "from lmz import Map,Zip,Filter,Grouper,Range,Transpose,Flatten\n",
    "import umap\n",
    "import eden.graph as eg\n",
    "from yoda import draw\n",
    "kwargs = {'RY_thresh': 0.5776457964336089, 'cons_thresh': 0.5674047148908881, \n",
    "          'cutD1': 2.0, 'cutD2': 35.0, 'cutS1': 17.0, 'cutS2': 38.0,\n",
    "          'dillution_fac1': 0.9740452168512836, 'dillution_fac2': 0.9286905734648928,\n",
    "          'norm': 1.0}\n",
    "\n",
    "alig = Map( sg.get_coarse, a, **kwargs)\n",
    "X = eg.vectorize(alig, discrete = True, normalization=kwargs['norm'], inner_normalization=kwargs['norm'])\n",
    "X = umap.UMAP(n_components = 2).fit_transform(X)\n",
    "draw.scatter(X,l)\n"
   ]
  },
  {
   "cell_type": "code",
   "execution_count": null,
   "id": "646d20bf-b3b3-43ec-9297-7ffd236eec26",
   "metadata": {},
   "outputs": [],
   "source": [
    "for g in alig[:10]:\n",
    "    ed.draw_graph(g)    \n"
   ]
  },
  {
   "cell_type": "code",
   "execution_count": null,
   "id": "0f37ba1b-580e-4e96-8c0b-f9bb2a9a78f9",
   "metadata": {},
   "outputs": [],
   "source": []
  }
 ],
 "metadata": {
  "kernelspec": {
   "display_name": "Python 3 (ipykernel)",
   "language": "python",
   "name": "python3"
  },
  "language_info": {
   "codemirror_mode": {
    "name": "ipython",
    "version": 3
   },
   "file_extension": ".py",
   "mimetype": "text/x-python",
   "name": "python",
   "nbconvert_exporter": "python",
   "pygments_lexer": "ipython3"
  }
 },
 "nbformat": 4,
 "nbformat_minor": 5
}
