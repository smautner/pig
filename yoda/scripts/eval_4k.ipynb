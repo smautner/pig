{
 "cells": [
  {
   "cell_type": "code",
   "execution_count": null,
   "id": "85bbbea3-5a5c-43e6-8596-94afc351d18a",
   "metadata": {},
   "outputs": [],
   "source": [
    "%load_ext autoreload\n",
    "%autoreload 2\n",
    "%matplotlib inline\n",
    "import smallgraph as sg\n",
    "import networkx as nx\n",
    "from matplotlib import pyplot as plt\n",
    "import lmz\n",
    "import eden.graph as eg\n",
    "from yoda.graphs import ali2graph\n",
    "import numpy as np\n",
    "import yoda.ml.simpleMl as sml\n",
    "import eden.display as ed\n",
    "from yoda.alignments import load_rfam, filter_by_seqcount\n",
    "import ubergauss.tools as ut\n",
    "from yoda import graphs as ygraphs"
   ]
  },
  {
   "cell_type": "code",
   "execution_count": null,
   "id": "5154e1e5-c7f4-4ee4-b6c6-fcb38cecdf14",
   "metadata": {},
   "outputs": [],
   "source": [
    "%%time\n",
    "a,l = load_rfam(full= True, add_cov= False)"
   ]
  },
  {
   "cell_type": "code",
   "execution_count": null,
   "id": "85c5ee13-7db6-421d-acb1-325f8f1fbabf",
   "metadata": {},
   "outputs": [],
   "source": [
    "%%time\n",
    "def atograph(ali):\n",
    "    graph = ali2graph.set_weight_label(ali)\n",
    "    graph = ali2graph.dillute(graph)\n",
    "    graph = ali2graph.set_weight(graph)\n",
    "    graph = ali2graph.donest(graph)\n",
    "    return graph\n",
    "\n",
    "graphss = ut.xxmap(atograph, a)\n",
    "matrix = ygraphs.vectorize_graphs(graphss, normalization=True,\n",
    "                      min_r = 2,min_d=1,\n",
    "                      inner_normalization=True)\n",
    "\n",
    "# sml.knn_accuracy(matrix,l)"
   ]
  },
  {
   "cell_type": "code",
   "execution_count": null,
   "id": "840c5f4a-9bce-4ad7-8661-20f5008ea0b1",
   "metadata": {},
   "outputs": [],
   "source": [
    "# dist = 1- (matrix @ matrix.T).toarray()\n",
    "# dist[dist<0] =0\n",
    "\n",
    "from kiez import Kiez\n",
    "# k_inst = Kiez(algorithm='SklearnNN', hubness='csls', n_candidates = 100,  algorithm_kwargs= {'metric' : 'precomputed'})\n",
    "k_inst = Kiez(algorithm='SklearnNN', hubness='csls', n_candidates = 100,  algorithm_kwargs= {'metric' : 'cosine'})\n",
    "k_inst.fit(matrix.toarray())\n",
    "dist, neigh_ind = k_inst.kneighbors()\n",
    "        \n",
    "# return sml.average_precision_limited(dist,neigh_ind,labels)\n"
   ]
  },
  {
   "cell_type": "code",
   "execution_count": null,
   "id": "24dc3a4d-448f-486d-b1d9-b474a37cc55b",
   "metadata": {},
   "outputs": [],
   "source": [
    "dist.shape"
   ]
  },
  {
   "cell_type": "code",
   "execution_count": null,
   "id": "f9a2f79b-d2a1-41bc-b598-a56048301aba",
   "metadata": {},
   "outputs": [],
   "source": [
    "%%time\n",
    "from  sklearn.neighbors import KNeighborsClassifier\n",
    "\n",
    "\n",
    "\n",
    "yy= np.array(l)\n",
    "indices = neigh_ind\n",
    "neighbor_labels = yy[indices]\n",
    "neighbor_labels = neighbor_labels[:, 1:]\n",
    "def searchrank(i,l):\n",
    "    row = neighbor_labels[i] \n",
    "    indices = np.where(row == l)[0]\n",
    "    return indices[0] if len(indices)>0 else 999999\n",
    "ranks = np.array([searchrank(i,lab) for i,lab in enumerate(yy) if lab != 0])\n",
    "ranks"
   ]
  },
  {
   "cell_type": "code",
   "execution_count": null,
   "id": "8eaf9e14-3d40-4bf2-9f57-e3f4af23f42a",
   "metadata": {},
   "outputs": [],
   "source": [
    "ranks.shape"
   ]
  },
  {
   "cell_type": "code",
   "execution_count": null,
   "id": "1041fadc-4e5e-4b29-9196-7ba30aaddb84",
   "metadata": {},
   "outputs": [],
   "source": [
    "%%time\n",
    "def calcranks(matrix,l):\n",
    "    knn = KNeighborsClassifier(n_neighbors=100)\n",
    "    yy= np.array(l)\n",
    "    knn.fit(matrix,yy)\n",
    "    _, indices = knn.kneighbors(matrix)\n",
    "    neighbor_labels = yy[indices]\n",
    "    neighbor_labels = neighbor_labels[:, 1:]\n",
    "    def searchrank(i,l):\n",
    "        row = neighbor_labels[i] \n",
    "        indices = np.where(row == l)[0]\n",
    "        return indices[0] if len(indices)>0 else 999999\n",
    "    ranks = [searchrank(i,lab) for i,lab in enumerate(yy) if lab != 0]\n",
    "    return np.array(ranks)\n",
    "a2,l2 = load_rfam(full= True, add_cov= False)\n",
    "mat = ygraphs.vectorize_alignments(a, min_r = 2, min_d=1)\n",
    "ranks2 = calcranks(mat,l2)"
   ]
  },
  {
   "cell_type": "code",
   "execution_count": null,
   "id": "bd9f1d92-6e41-49e8-8043-534b3f083688",
   "metadata": {},
   "outputs": [],
   "source": []
  },
  {
   "cell_type": "code",
   "execution_count": null,
   "id": "9e5c40c0-4768-4eaa-878f-156e7953d3cc",
   "metadata": {},
   "outputs": [],
   "source": [
    "# PLOT importance weighted vectorization  vs normal vectorization , do we have at least 1 NN in the closest X instances?\n",
    "plt.plot([sum(ranks < x)/sum(l != 0) for x in range(1,11)])\n",
    "plt.plot([sum(ranks2 < x)/sum(l2 != 0) for x in range(1,11)])"
   ]
  },
  {
   "cell_type": "code",
   "execution_count": null,
   "id": "1b29f124-9250-4716-8baa-5ab38119a60a",
   "metadata": {},
   "outputs": [],
   "source": [
    "plt.plot([sum(ranks < x)/sum(l != 0) for x in range(100)])\n",
    "plt.plot([sum(ranks2 < x)/sum(l2 != 0) for x in range(100)])"
   ]
  },
  {
   "cell_type": "code",
   "execution_count": null,
   "id": "94ee23a5-9e71-4a5f-a732-6a5dd93e7950",
   "metadata": {},
   "outputs": [],
   "source": [
    "# are there different successrates for more populated families? \n",
    "manyseq, fewseq = filter_by_seqcount(a)\n",
    "\n",
    "def pl(x):\n",
    "    x.append(0)\n",
    "    mask = [ ll in x for ll in l ]\n",
    "    ranks = calcranks(matrix[mask], l[mask])\n",
    "    # ranks = calcranks(mat[mask], l[mask])\n",
    "    data = [sum(ranks < xx)/sum(l[mask] != 0) for xx in range(1,21)]\n",
    "    plt.plot(data)\n",
    "    return data\n",
    "\n",
    "dg = pl(manyseq)\n",
    "db = pl(fewseq)"
   ]
  },
  {
   "cell_type": "code",
   "execution_count": null,
   "id": "a43ad64d-e6c9-4a59-82fd-c5ac931901f7",
   "metadata": {},
   "outputs": [],
   "source": [
    "todi = lambda x,y: [{'clan hit':e, 'neighbors':i, 'experiment':y} for i,e in enumerate(x)]\n",
    "import pandas as pd\n",
    "import seaborn as sns\n",
    "g,b = ([0.26717557251908397,\n",
    "  0.2824427480916031,\n",
    "  0.29770992366412213,\n",
    "  0.32061068702290074,\n",
    "  0.33587786259541985,\n",
    "  0.3511450381679389,\n",
    "  0.35877862595419846,\n",
    "  0.3816793893129771,\n",
    "  0.3816793893129771,\n",
    "  0.3969465648854962,\n",
    "  0.40458015267175573,\n",
    "  0.40458015267175573,\n",
    "  0.4122137404580153,\n",
    "  0.4122137404580153,\n",
    "  0.4122137404580153,\n",
    "  0.4122137404580153,\n",
    "  0.4198473282442748,\n",
    "  0.42748091603053434,\n",
    "  0.4351145038167939,\n",
    "  0.45038167938931295],\n",
    " [0.3231939163498099,\n",
    "  0.3726235741444867,\n",
    "  0.41064638783269963,\n",
    "  0.43346007604562736,\n",
    "  0.44106463878326996,\n",
    "  0.4600760456273764,\n",
    "  0.4714828897338403,\n",
    "  0.4790874524714829,\n",
    "  0.49049429657794674,\n",
    "  0.49429657794676807,\n",
    "  0.5057034220532319,\n",
    "  0.5171102661596958,\n",
    "  0.5209125475285171,\n",
    "  0.5285171102661597,\n",
    "  0.5285171102661597,\n",
    "  0.5285171102661597,\n",
    "  0.5285171102661597,\n",
    "  0.532319391634981,\n",
    "  0.532319391634981,\n",
    "  0.5361216730038023])\n",
    "data = pd.DataFrame(todi(dg,'manySequences, boost_flank')+\n",
    "                    todi(db,'fewSequences, boost_flank')+\n",
    "                    todi(g,'manyseq, no boost')+\n",
    "                    todi(b,'fewseq, no boost'))\n",
    "# sns.lineplot(x=\"neighbors\", y=\"clan hit\", hue=\"experiment\",  data=data)\n",
    "\n",
    "data = pd.DataFrame(todi(dg,'manySequences')+\n",
    "                    todi(db,'fewSequences'))\n",
    "\n",
    "sns.lineplot(x=\"neighbors\", y=\"clan hit\",\n",
    "             hue=\"experiment\", \n",
    "             data=data)"
   ]
  },
  {
   "cell_type": "code",
   "execution_count": null,
   "id": "240e02b0-7fab-4d5d-b0fd-b9b19719d484",
   "metadata": {},
   "outputs": [],
   "source": [
    "#ranks = calcranks(matrix, l)"
   ]
  },
  {
   "cell_type": "code",
   "execution_count": null,
   "id": "574e31ef-6367-4e8d-8788-9694c3bf514f",
   "metadata": {},
   "outputs": [],
   "source": [
    "ranks"
   ]
  },
  {
   "cell_type": "code",
   "execution_count": null,
   "id": "67bab530-62a5-4bea-952c-34376ab99033",
   "metadata": {},
   "outputs": [],
   "source": [
    "# if we know the neighbor, can we find the whole familiy? \n",
    "\n",
    "if False:\n",
    "    knn = KNeighborsClassifier(n_neighbors=100)\n",
    "    yy= np.array(l)\n",
    "    knn.fit(matrix,yy)\n",
    "    _, indices = knn.kneighbors(matrix[yy!=0])\n"
   ]
  },
  {
   "cell_type": "markdown",
   "id": "b1234f80-c6af-42eb-aed9-e8350d8507b4",
   "metadata": {},
   "source": [
    "# are two enough to find the rest? "
   ]
  },
  {
   "cell_type": "code",
   "execution_count": null,
   "id": "a6c9f118-972b-4f00-a7bf-430b996866c8",
   "metadata": {},
   "outputs": [],
   "source": []
  },
  {
   "cell_type": "code",
   "execution_count": null,
   "id": "f38bc09c-7d34-4f96-a40b-8bdb13a376e5",
   "metadata": {},
   "outputs": [],
   "source": []
  },
  {
   "cell_type": "code",
   "execution_count": null,
   "id": "205f0e03-40df-415f-aaf4-998339233912",
   "metadata": {},
   "outputs": [],
   "source": [
    "cm_dict_ab={}\n",
    "cm_dict_ba={}\n",
    "with open('rfam-weakpairs','r') as f:\n",
    "    for line in f:\n",
    "        if line:\n",
    "            sline = line.split(' ')\n",
    "            cm_dict_ab[sline[0]+sline[1]] = line\n",
    "            cm_dict_ba[sline[1]+sline[0]] = line\n",
    "            "
   ]
  },
  {
   "cell_type": "code",
   "execution_count": null,
   "id": "7b8db7d9-991d-4737-9462-d46cff2f948b",
   "metadata": {},
   "outputs": [],
   "source": []
  },
  {
   "cell_type": "code",
   "execution_count": null,
   "id": "17f6258e-69f1-461a-8beb-9b683cbd649e",
   "metadata": {},
   "outputs": [],
   "source": [
    "vec = eg.Vectorizer( min_r = 2,min_d=1)\n",
    "import structout.intlistV2 as so \n",
    "\n",
    "def nice(values, colorids=[]):\n",
    "    symbols = '▁▂▃▄▅▆▇█'\n",
    "    values = np.array(values)\n",
    "    values = so.binning(values, count = len(symbols), ylim=False)\n",
    "    color = lambda x: '\\x1b[1;3%d;48m%s\\x1b[0m' % (1, x)\n",
    "    if not colorids: \n",
    "        return ''.join([symbols[v] for v in values])\n",
    "    else:\n",
    "        return ''.join([symbols[v] if i not in colorids else color(symbols[v]) for i,v in enumerate(values)])\n",
    "\n",
    "\n",
    "r = []\n",
    "done = set()\n",
    "needles = []\n",
    "rowz = []\n",
    "for i,ind in enumerate(neigh_ind):\n",
    "    # we want r0 and r1 to be equal and >0.. \n",
    "    rowlabels = yy[ind]\n",
    "    if rowlabels[0] == 0 or rowlabels[0]!=rowlabels[1]:\n",
    "       continue \n",
    "    # we want \n",
    "    c,d = ind[0], ind[1]\n",
    "    if (c,d) in done:\n",
    "        continue\n",
    "    else:\n",
    "        done.add((d,c))\n",
    "    \n",
    "    needle = np.array([ (a + b) /2  for a,b in zip(matrix[c].toarray()[0],matrix[d].toarray()[0])])\n",
    "    needles.append(needle)\n",
    "    rowz.append((i,c,d))\n",
    "    #input = np.log1p(matrix[[c,d],:])\n",
    "    #needle = np.asarray(np.sum(input, axis = 0))[0]\n",
    "    #input = matrix[[c,d],:]\n",
    "    #needle = np.asarray(np.sum(input, axis = 0))[0]\n",
    "    # FAB\n",
    "    #index_helper = np.array([((a+b)/2) if a and b else 0 for a,b in zip(matrix[c].toarray()[0],matrix[d].toarray()[0]) ])\n",
    "    # needle = np.array([(a+b)/2 for a,b in zip(matrix[c].toarray()[0],matrix[d].toarray()[0]) if a and b])\n",
    "    #indices = np.argsort(-np.dot(matrix.todense()[:, index_helper > 0] , needle.T )).A1 [:50]\n",
    "    \n",
    "    # dist, indices = k_inst.kneighbors([needle])\n",
    "    \n",
    "k_inst = Kiez(algorithm='SklearnNN', hubness='csls',  n_candidates = 100,  \n",
    "              algorithm_kwargs= {'metric' : 'cosine'})\n",
    "k_inst.fit(np.array(needles),matrix.toarray() )\n",
    "dist, indices2 = k_inst.kneighbors()\n",
    "\n",
    "for indices,rid in zip( indices2, rowz):\n",
    "    i,c,d = rid\n",
    "    # CLASS IDS \n",
    "    r.append(str(yy[indices]))\n",
    "    print(r[-1])\n",
    "    # RFAM IDS \n",
    "    # IMPORTANCES\n",
    "    for i in indices[:10]: # FIST 20 HITS \n",
    "        graph = graphss[i]\n",
    "        seqid_scr = {}\n",
    "        for n,ve in zip(graph.nodes, vec.vertex_transform([graph])[0]):\n",
    "            seqid_scr[n]= (ve*needle)[0]\n",
    "        score_per_nucleotide = [ seqid_scr.get(j,0) for j in range(a[i].alignment.shape[1])]\n",
    "\n",
    "\n",
    "        conserved = [ nid for nid,di in graphss[i].nodes(data=True) if di['weight']> .5]\n",
    "        #### print per entry... \n",
    "        # NAME,  score \n",
    "        # position score + highlight \n",
    "        # structure line \n",
    "        # 5 ali lines \n",
    "        # newline \n",
    "        r.append(f\"{a[i].gf['DE']} {a[i].gf['ID']}\") # ! score later \n",
    "        # print(r[-1])\n",
    "        r.append(f\"{nice(score_per_nucleotide, conserved)}\") \n",
    "        # print(r[-1])\n",
    "        r.append(f\"{a[i].gc['SS_cons']}\") \n",
    "        # print(r[-1])\n",
    "        for row in a[i].alignment[:5]:\n",
    "            r.append(f'{\"\".join(row)}') \n",
    "        # print(r[-1])\n",
    "\n",
    "        labels = a[c].label, a[i].label\n",
    "        k = '%s.cm%s.cm' % labels\n",
    "        r.append(cm_dict_ab.get(k,'None'))\n",
    "        r.append(cm_dict_ba.get(k,'None'))\n",
    "        labels = a[d].label, a[i].label\n",
    "        k = '%s.cm%s.cm' % labels\n",
    "        r.append(cm_dict_ab.get(k,'None'))\n",
    "        r.append(cm_dict_ba.get(k,'None'))\n",
    "        r.append(f'') \n",
    "        \n",
    "    def id_to_gr(id):\n",
    "        graph = graphs[id]\n",
    "        for n,ve in zip(graph.nodes, vec.vertex_transform([graph])[0]):\n",
    "            graph.nodes[n]['asd']= ve*needle\n",
    "        return graph\n",
    "    #gra = list(map( id_to_gr, indices[0][:5]))\n",
    "    # ed.draw_graph_row(gra, vertex_color = 'asd') \n",
    "    def draw(g):\n",
    "        if len(g) < 400: \n",
    "            ed.draw_graph(g, vertex_color = 'asd', secondary_vertex_color = 'weight') ; plt.show()\n",
    "        else:\n",
    "            print(\"TOO LARGE TO DRAW\")\n",
    "    # [draw(g) for g in gra]\n",
    "\n",
    "\n"
   ]
  },
  {
   "cell_type": "code",
   "execution_count": null,
   "id": "19b99690-c6ed-4dee-9d3d-054ca37e3f1a",
   "metadata": {},
   "outputs": [],
   "source": [
    "r"
   ]
  },
  {
   "cell_type": "code",
   "execution_count": null,
   "id": "3dc71445-ebe4-4797-8b80-a141c1480e97",
   "metadata": {},
   "outputs": [],
   "source": [
    "np.array(needles).shape"
   ]
  },
  {
   "cell_type": "code",
   "execution_count": null,
   "id": "29e49823-79fc-4d31-a8bf-480fdefadcc4",
   "metadata": {},
   "outputs": [],
   "source": [
    "matrix.toarray().shape"
   ]
  },
  {
   "cell_type": "code",
   "execution_count": null,
   "id": "2e864b18-2f7c-4348-a92b-7c995a3169c7",
   "metadata": {},
   "outputs": [],
   "source": [
    "r[2]"
   ]
  },
  {
   "cell_type": "code",
   "execution_count": null,
   "id": "9a341eb4-2077-4149-b4f8-b95047af33c7",
   "metadata": {},
   "outputs": [],
   "source": [
    "r = [e if e is not None else \"None\" for e in r]"
   ]
  },
  {
   "cell_type": "code",
   "execution_count": null,
   "id": "06d372fd-06d6-462d-a1f4-0162d2bf829a",
   "metadata": {},
   "outputs": [],
   "source": [
    "with open('data.txt','w') as file:\n",
    "    file.write('\\n'.join(r))\n",
    "!cat data.txt | aha > data.html"
   ]
  },
  {
   "cell_type": "code",
   "execution_count": null,
   "id": "1a4e4d11-cb90-4ef0-b02f-acc85d7e1022",
   "metadata": {},
   "outputs": [],
   "source": [
    "import sklearn\n",
    "sklearn.__file__"
   ]
  },
  {
   "cell_type": "code",
   "execution_count": null,
   "id": "37231ae8-5307-476e-a4c3-0a48698aa54d",
   "metadata": {},
   "outputs": [],
   "source": [
    "# CAN WE FIND NEW INSTANCES OF A CLUSTER IF WE PROVIDE THE WHOLE CLUSTER?\n",
    "\n",
    "knn = KNeighborsClassifier(n_neighbors=100)\n",
    "yy= np.array(l)\n",
    "knn.fit(matrix ,yy)\n",
    "\n",
    "y_needle =  {}\n",
    "\n",
    "for y in np.unique(yy): \n",
    "    if y > 0:\n",
    "        # pairwise search ... \n",
    "        indices = np.where (yy==y)[0]\n",
    "        for a,b in [(i,j) for enu,i in enumerate(indices) for j in indices[enu+1:]]:\n",
    "            input = np.log1p(matrix[[c,d],:])\n",
    "            needle = np.asarray(np.sum(input, axis = 0))[0]           \n",
    "        \n",
    "    \n",
    "        \n",
    "        # input = matrix[yy == y]\n",
    "        # needle = np.asarray(np.all((input > 0).todense(), axis = 0))\n",
    "        \n",
    "        dist, indices = knn.kneighbors(needle)\n",
    "        print(y)\n",
    "        print(yy[indices])\n",
    "        print(dist)\n",
    "        y_needle[y] = (needle, indices) \n"
   ]
  },
  {
   "cell_type": "code",
   "execution_count": null,
   "id": "dd7a8f10-49d0-46ac-ab5e-c37c2e8bdff8",
   "metadata": {},
   "outputs": [],
   "source": []
  },
  {
   "cell_type": "code",
   "execution_count": null,
   "id": "899853ec-eacc-4316-8d4e-26d6fa46cc2b",
   "metadata": {},
   "outputs": [],
   "source": [
    "def show(y):\n",
    "    needle, indices = y_needle[y]\n",
    "    def id_to_gr(id):\n",
    "        graph = graphs[id]\n",
    "        for n,ve in zip(graph.nodes, vec.vertex_transform([graph])[0]):\n",
    "            graph.nodes[n]['asd']= ve*needle[0]\n",
    "        return graph\n",
    "    gra = list(map( id_to_gr, indices[0][:5]))\n",
    "    # ed.draw_graph_row(gra, vertex_color = 'asd') \n",
    "    \n",
    "    def draw(g):\n",
    "        if len(g) < 300: \n",
    "            ed.draw_graph(g, vertex_color = 'asd', secondary_vertex_color = 'weight') ; plt.show()\n",
    "        else:\n",
    "            print(\"TOO LARGE TO DRAW\")\n",
    "    [draw(g) for g in gra]\n",
    "\n",
    "\n",
    "show(8)\n"
   ]
  },
  {
   "cell_type": "code",
   "execution_count": null,
   "id": "678c7747-c6e1-4291-88a6-6b224baf1434",
   "metadata": {},
   "outputs": [],
   "source": [
    ">>> rng = np.random.RandomState(0)\n",
    ">>> source = rng.rand(61,65537)\n",
    ">>> target = rng.rand(4108,65537)\n",
    "\n",
    "\n",
    "# Step 2: Create a Kiez object\n",
    "kiezz = Kiez(hubness='localscaling')  # 'ls' stands for Local Scaling, you can also use 'mp' for Mutual Proximity\n",
    "\n",
    "# Step 3: Fit the Kiez object to your data\n",
    "kiezz.fit(source)\n",
    "\n",
    "# Step 4: Transform the data to get hubness-corrected distances\n",
    "X_corrected = kiez.transform(source)\n",
    "\n",
    "# Step 5: Convert the corrected data to a distance matrix\n",
    "#distance_matrix = nn.kneighbors_graph(X_corrected, mode='distance').toarray()"
   ]
  },
  {
   "cell_type": "code",
   "execution_count": null,
   "id": "cccc78c1-8229-449a-8dfc-ecd5aab5c85a",
   "metadata": {},
   "outputs": [],
   "source": [
    "nn_ind.shap"
   ]
  },
  {
   "cell_type": "code",
   "execution_count": null,
   "id": "a75e939b-037d-4064-8504-e4faa2e1dd3e",
   "metadata": {},
   "outputs": [],
   "source": []
  }
 ],
 "metadata": {
  "kernelspec": {
   "display_name": "Python 3 (ipykernel)",
   "language": "python",
   "name": "python3"
  },
  "language_info": {
   "codemirror_mode": {
    "name": "ipython",
    "version": 3
   },
   "file_extension": ".py",
   "mimetype": "text/x-python",
   "name": "python",
   "nbconvert_exporter": "python",
   "pygments_lexer": "ipython3"
  }
 },
 "nbformat": 4,
 "nbformat_minor": 5
}
