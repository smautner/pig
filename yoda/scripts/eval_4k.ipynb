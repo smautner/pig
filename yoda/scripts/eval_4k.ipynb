{
 "cells": [
  {
   "cell_type": "code",
   "execution_count": null,
   "id": "85bbbea3-5a5c-43e6-8596-94afc351d18a",
   "metadata": {},
   "outputs": [],
   "source": [
    "%load_ext autoreload\n",
    "%autoreload 2\n",
    "%matplotlib inline\n",
    "import smallgraph as sg\n",
    "import networkx as nx\n",
    "from matplotlib import pyplot as plt\n",
    "import lmz\n",
    "import eden.graph as eg\n",
    "from yoda.graphs import ali2graph\n",
    "import numpy as np\n",
    "import yoda.ml.simpleMl as sml\n",
    "import eden.display as ed\n",
    "from yoda.alignments import load_rfam, filter_by_seqcount\n",
    "import ubergauss.tools as ut\n",
    "from yoda import graphs as ygraphs"
   ]
  },
  {
   "cell_type": "code",
   "execution_count": null,
   "id": "5154e1e5-c7f4-4ee4-b6c6-fcb38cecdf14",
   "metadata": {},
   "outputs": [],
   "source": [
    "%%time\n",
    "a,l = load_rfam(full= True, add_cov= False)"
   ]
  },
  {
   "cell_type": "code",
   "execution_count": null,
   "id": "85c5ee13-7db6-421d-acb1-325f8f1fbabf",
   "metadata": {},
   "outputs": [],
   "source": [
    "%%time\n",
    "def atograph(ali):\n",
    "    graph = ali2graph.writecons(ali)\n",
    "    graph = ali2graph.dillute( graph, dilute1 = .7, dilute2 = .4 , fix_edges =False)\n",
    "    graph = ali2graph.conscut( graph,  consThresh= .93, replacelabel = False )\n",
    "    graphs = ali2graph.nearstem( graph, boost_range = 4, boost_thresh = .5, boost_weight = 1)\n",
    "    return graph\n",
    "\n",
    "graphs = ut.xxmap(atograph, a)\n",
    "matrix = ygraphs.vectorize_graphs(graphs, normalization=True,\n",
    "                      min_r = 2,min_d=1,\n",
    "                      inner_normalization=True)\n",
    "\n",
    "# sml.knn_accuracy(matrix,l)"
   ]
  },
  {
   "cell_type": "code",
   "execution_count": null,
   "id": "f9a2f79b-d2a1-41bc-b598-a56048301aba",
   "metadata": {},
   "outputs": [],
   "source": [
    "%%time\n",
    "from  sklearn.neighbors import KNeighborsClassifier\n",
    "def calcranks(matrix,l):\n",
    "    knn = KNeighborsClassifier(n_neighbors=500+1)\n",
    "    yy= np.array(l)\n",
    "    knn.fit(matrix,yy)\n",
    "    _, indices = knn.kneighbors(matrix)\n",
    "    neighbor_labels = yy[indices]\n",
    "    neighbor_labels = neighbor_labels[:, 1:]\n",
    "    def searchrank(i,l):\n",
    "        row = neighbor_labels[i] \n",
    "        indices = np.where(row == l)[0]\n",
    "        return indices[0] if len(indices)>0 else 999999\n",
    "    ranks = [searchrank(i,lab) for i,lab in enumerate(yy) if lab != 0]\n",
    "    return np.array(ranks)\n",
    "ranks = calcranks(matrix, l)"
   ]
  },
  {
   "cell_type": "code",
   "execution_count": null,
   "id": "1041fadc-4e5e-4b29-9196-7ba30aaddb84",
   "metadata": {},
   "outputs": [],
   "source": [
    "%%time\n",
    "a2,l2 = load_rfam(full= True, add_cov= False)\n",
    "mat = ygraphs.vectorize_alignments(a, min_r = 2, min_d=1)\n",
    "ranks2 = calcranks(mat,l2)"
   ]
  },
  {
   "cell_type": "code",
   "execution_count": null,
   "id": "bd9f1d92-6e41-49e8-8043-534b3f083688",
   "metadata": {},
   "outputs": [],
   "source": []
  },
  {
   "cell_type": "code",
   "execution_count": null,
   "id": "9e5c40c0-4768-4eaa-878f-156e7953d3cc",
   "metadata": {},
   "outputs": [],
   "source": [
    "# PLOT importance weighted vectorization  vs normal vectorization , do we have at least 1 NN in the closest X instances?\n",
    "plt.plot([sum(ranks < x)/sum(l != 0) for x in range(1,11)])\n",
    "plt.plot([sum(ranks2 < x)/sum(l2 != 0) for x in range(1,11)])"
   ]
  },
  {
   "cell_type": "code",
   "execution_count": null,
   "id": "1b29f124-9250-4716-8baa-5ab38119a60a",
   "metadata": {},
   "outputs": [],
   "source": [
    "plt.plot([sum(ranks < x)/sum(l != 0) for x in range(500)])\n",
    "plt.plot([sum(ranks2 < x)/sum(l2 != 0) for x in range(500)])"
   ]
  },
  {
   "cell_type": "code",
   "execution_count": null,
   "id": "94ee23a5-9e71-4a5f-a732-6a5dd93e7950",
   "metadata": {},
   "outputs": [],
   "source": [
    "# are there different successrates for more populated families? \n",
    "manyseq, fewseq = filter_by_seqcount(a)\n",
    "\n",
    "def pl(x):\n",
    "    x.append(0)\n",
    "    mask = [ ll in x for ll in l ]\n",
    "    ranks = calcranks(matrix[mask], l[mask])\n",
    "    # ranks = calcranks(mat[mask], l[mask])\n",
    "    data = [sum(ranks < xx)/sum(l[mask] != 0) for xx in range(1,21)]\n",
    "    plt.plot(data)\n",
    "    return data\n",
    "\n",
    "dg = pl(manyseq)\n",
    "db = pl(fewseq)"
   ]
  },
  {
   "cell_type": "code",
   "execution_count": null,
   "id": "a43ad64d-e6c9-4a59-82fd-c5ac931901f7",
   "metadata": {},
   "outputs": [],
   "source": [
    "todi = lambda x,y: [{'clan hit':e, 'neighbors':i, 'experiment':y} for i,e in enumerate(x)]\n",
    "import pandas as pd\n",
    "import seaborn as sns\n",
    "g,b = ([0.26717557251908397,\n",
    "  0.2824427480916031,\n",
    "  0.29770992366412213,\n",
    "  0.32061068702290074,\n",
    "  0.33587786259541985,\n",
    "  0.3511450381679389,\n",
    "  0.35877862595419846,\n",
    "  0.3816793893129771,\n",
    "  0.3816793893129771,\n",
    "  0.3969465648854962,\n",
    "  0.40458015267175573,\n",
    "  0.40458015267175573,\n",
    "  0.4122137404580153,\n",
    "  0.4122137404580153,\n",
    "  0.4122137404580153,\n",
    "  0.4122137404580153,\n",
    "  0.4198473282442748,\n",
    "  0.42748091603053434,\n",
    "  0.4351145038167939,\n",
    "  0.45038167938931295],\n",
    " [0.3231939163498099,\n",
    "  0.3726235741444867,\n",
    "  0.41064638783269963,\n",
    "  0.43346007604562736,\n",
    "  0.44106463878326996,\n",
    "  0.4600760456273764,\n",
    "  0.4714828897338403,\n",
    "  0.4790874524714829,\n",
    "  0.49049429657794674,\n",
    "  0.49429657794676807,\n",
    "  0.5057034220532319,\n",
    "  0.5171102661596958,\n",
    "  0.5209125475285171,\n",
    "  0.5285171102661597,\n",
    "  0.5285171102661597,\n",
    "  0.5285171102661597,\n",
    "  0.5285171102661597,\n",
    "  0.532319391634981,\n",
    "  0.532319391634981,\n",
    "  0.5361216730038023])\n",
    "data = pd.DataFrame(todi(dg,'manySequences, boost_flank')+\n",
    "                    todi(db,'fewSequences, boost_flank')+\n",
    "                    todi(g,'manyseq, no boost')+\n",
    "                    todi(b,'fewseq, no boost'))\n",
    "# sns.lineplot(x=\"neighbors\", y=\"clan hit\", hue=\"experiment\",  data=data)\n",
    "\n",
    "data = pd.DataFrame(todi(dg,'manySequences')+\n",
    "                    todi(db,'fewSequences'))\n",
    "\n",
    "sns.lineplot(x=\"neighbors\", y=\"clan hit\",\n",
    "             hue=\"experiment\", \n",
    "             data=data)"
   ]
  },
  {
   "cell_type": "code",
   "execution_count": null,
   "id": "240e02b0-7fab-4d5d-b0fd-b9b19719d484",
   "metadata": {},
   "outputs": [],
   "source": [
    "ranks = calcranks(matrix, l)"
   ]
  },
  {
   "cell_type": "code",
   "execution_count": null,
   "id": "574e31ef-6367-4e8d-8788-9694c3bf514f",
   "metadata": {},
   "outputs": [],
   "source": [
    "ranks"
   ]
  },
  {
   "cell_type": "code",
   "execution_count": null,
   "id": "4c94aab9-b5c3-48d7-bd62-57fdf5ea91c5",
   "metadata": {},
   "outputs": [],
   "source": [
    "graphs[0].nodes[2]"
   ]
  },
  {
   "cell_type": "code",
   "execution_count": null,
   "id": "67bab530-62a5-4bea-952c-34376ab99033",
   "metadata": {},
   "outputs": [],
   "source": [
    "# if we know the neighbor, can we find the whole familiy? \n",
    "knn = KNeighborsClassifier(n_neighbors=100)\n",
    "yy= np.array(l)\n",
    "knn.fit(matrix,yy)\n",
    "_, indices = knn.kneighbors(matrix[yy!=0])\n",
    "\n",
    "interesting = indices[ranks == 0]"
   ]
  },
  {
   "cell_type": "markdown",
   "id": "b1234f80-c6af-42eb-aed9-e8350d8507b4",
   "metadata": {},
   "source": [
    "# are two enough to find the rest? "
   ]
  },
  {
   "cell_type": "code",
   "execution_count": null,
   "id": "17f6258e-69f1-461a-8beb-9b683cbd649e",
   "metadata": {},
   "outputs": [],
   "source": [
    "vec = eg.Vectorizer( min_r = 2,min_d=1)\n",
    "\n",
    "# project other instances to our thing.. \n",
    "\n",
    "# \n",
    "\n",
    "for line in interesting:\n",
    "    c,d = line[0], line[1]\n",
    "    needle = np.array([a * b for a,b in zip(matrix[c].toarray()[0],matrix[d].toarray()[0])])\n",
    "\n",
    "    input = np.log1p(matrix[[c,d],:])\n",
    "    needle = np.asarray(np.sum(input, axis = 0))[0]\n",
    "    \n",
    "    input = matrix[[c,d],:]\n",
    "    needle = np.asarray(np.sum(input, axis = 0))[0]\n",
    "    \n",
    "    dist, indices = knn.kneighbors([needle])\n",
    "    print(yy[indices])\n",
    "    print(f'{sum(yy == yy[indices][0,0])=}')\n",
    "    print(dist)\n",
    "    \n",
    "    def id_to_gr(id):\n",
    "        graph = graphs[id]\n",
    "        for n,ve in zip(graph.nodes, vec.vertex_transform([graph])[0]):\n",
    "            graph.nodes[n]['asd']= ve*needle\n",
    "        return graph\n",
    "    gra = list(map( id_to_gr, indices[0][:5]))\n",
    "    # ed.draw_graph_row(gra, vertex_color = 'asd') \n",
    "\n",
    "    def draw(g):\n",
    "        if len(g) < 400: \n",
    "            ed.draw_graph(g, vertex_color = 'asd', secondary_vertex_color = 'weight') ; plt.show()\n",
    "        else:\n",
    "            print(\"TOO LARGE TO DRAW\")\n",
    "    [draw(g) for g in gra]\n",
    "\n"
   ]
  },
  {
   "cell_type": "code",
   "execution_count": null,
   "id": "37231ae8-5307-476e-a4c3-0a48698aa54d",
   "metadata": {},
   "outputs": [],
   "source": [
    "# CAN WE FIND NEW INSTANCES OF A CLUSTER IF WE PROVIDE THE WHOLE CLUSTER?\n",
    "\n",
    "knn = KNeighborsClassifier(n_neighbors=100)\n",
    "yy= np.array(l)\n",
    "knn.fit(matrix ,yy)\n",
    "\n",
    "y_needle =  {}\n",
    "\n",
    "for y in np.unique(yy): \n",
    "    if y > 0:\n",
    "        \n",
    "        input = np.log1p(matrix[yy == y])\n",
    "        needle = np.asarray(np.sum(input, axis = 0))\n",
    "        \n",
    "        # input = matrix[yy == y]\n",
    "        # needle = np.asarray(np.all((input > 0).todense(), axis = 0))\n",
    "        \n",
    "        dist, indices = knn.kneighbors(needle)\n",
    "        print(y)\n",
    "        print(yy[indices])\n",
    "        print(dist)\n",
    "        y_needle[y] = (needle, indices) \n"
   ]
  },
  {
   "cell_type": "code",
   "execution_count": null,
   "id": "dd7a8f10-49d0-46ac-ab5e-c37c2e8bdff8",
   "metadata": {},
   "outputs": [],
   "source": []
  },
  {
   "cell_type": "code",
   "execution_count": null,
   "id": "899853ec-eacc-4316-8d4e-26d6fa46cc2b",
   "metadata": {},
   "outputs": [],
   "source": [
    "def show(y):\n",
    "    needle, indices = y_needle[y]\n",
    "    def id_to_gr(id):\n",
    "        graph = graphs[id]\n",
    "        for n,ve in zip(graph.nodes, vec.vertex_transform([graph])[0]):\n",
    "            graph.nodes[n]['asd']= ve*needle[0]\n",
    "        return graph\n",
    "    gra = list(map( id_to_gr, indices[0][:5]))\n",
    "    # ed.draw_graph_row(gra, vertex_color = 'asd') \n",
    "    \n",
    "    def draw(g):\n",
    "        if len(g) < 300: \n",
    "            ed.draw_graph(g, vertex_color = 'asd', secondary_vertex_color = 'weight') ; plt.show()\n",
    "        else:\n",
    "            print(\"TOO LARGE TO DRAW\")\n",
    "    [draw(g) for g in gra]\n",
    "\n",
    "\n",
    "show(8)\n"
   ]
  },
  {
   "cell_type": "code",
   "execution_count": null,
   "id": "678c7747-c6e1-4291-88a6-6b224baf1434",
   "metadata": {},
   "outputs": [],
   "source": []
  }
 ],
 "metadata": {
  "kernelspec": {
   "display_name": "Python 3 (ipykernel)",
   "language": "python",
   "name": "python3"
  },
  "language_info": {
   "codemirror_mode": {
    "name": "ipython",
    "version": 3
   },
   "file_extension": ".py",
   "mimetype": "text/x-python",
   "name": "python",
   "nbconvert_exporter": "python",
   "pygments_lexer": "ipython3"
  }
 },
 "nbformat": 4,
 "nbformat_minor": 5
}
