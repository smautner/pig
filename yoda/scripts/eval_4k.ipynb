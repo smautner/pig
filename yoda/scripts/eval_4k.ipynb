{
 "cells": [
  {
   "cell_type": "code",
   "execution_count": null,
   "id": "85bbbea3-5a5c-43e6-8596-94afc351d18a",
   "metadata": {},
   "outputs": [],
   "source": [
    "from needle import plotHits, plotSubsetScores, plotNeedle\n",
    "%load_ext autoreload\n",
    "%autoreload 2\n",
    "%matplotlib inline\n",
    "from matplotlib import pyplot as plt\n",
    "import eden.graph as eg\n",
    "import numpy as np\n",
    "import yoda.ml.simpleMl as sml\n",
    "import eden.display as ed\n",
    "from yoda.alignments import load_rfam, filter_by_seqcount\n",
    "from yoda import graphs as ygraphs\n",
    "import needle\n",
    "import yoda.alignments.clans as cl\n",
    "\n",
    "from  sklearn.neighbors import KNeighborsClassifier\n",
    "from kiez import Kiez\n"
   ]
  },
  {
   "cell_type": "code",
   "execution_count": null,
   "id": "6388a7aa-4433-41c7-8cbd-98461fc8df1b",
   "metadata": {},
   "outputs": [],
   "source": [
    "\n",
    "import matplotlib as mpl\n",
    "mpl.rc(\"figure\", dpi=100)"
   ]
  },
  {
   "cell_type": "code",
   "execution_count": null,
   "id": "5154e1e5-c7f4-4ee4-b6c6-fcb38cecdf14",
   "metadata": {},
   "outputs": [],
   "source": [
    "%%time\n",
    "a,l = load_rfam(full= True, add_cov= False)\n"
   ]
  },
  {
   "cell_type": "code",
   "execution_count": null,
   "id": "97f29900-0a14-4065-80a2-6d569606db1f",
   "metadata": {},
   "outputs": [],
   "source": [
    "# this is just to collect data to report in the paper\n",
    "# asd= cl.get_label_dictionary(cl.clans_rfam15)\n",
    "# asd= cl.get_label_dictionary(cl.clans)\n",
    "# len(np.unique(list(asd.values()))) # 146\n",
    "# len(asd) # 463\n",
    "\n",
    "figpath =  !echo $HOME/pigplot/\n",
    "figpath = figpath[0]\n",
    "figpath\n"
   ]
  },
  {
   "cell_type": "code",
   "execution_count": null,
   "id": "317b46376000e937",
   "metadata": {},
   "outputs": [],
   "source": [
    "import yoda.graphs as gr\n",
    "matrix = gr.alignment_to_vectors(a)"
   ]
  },
  {
   "cell_type": "code",
   "execution_count": null,
   "id": "1041fadc-4e5e-4b29-9196-7ba30aaddb84",
   "metadata": {},
   "outputs": [],
   "source": [
    "a2,l2 = load_rfam(full= True, add_cov= False)\n",
    "mat = ygraphs.vectorize_alignments(a)"
   ]
  },
  {
   "cell_type": "code",
   "execution_count": null,
   "id": "1b29f124-9250-4716-8baa-5ab38119a60a",
   "metadata": {},
   "outputs": [],
   "source": [
    "# PLOT importance weighted vectorization  vs normal vectorization , do we have at least 1 NN in the closest X instances?\n",
    "ax = plotHits(matrix, mat, l)\n",
    "ax.get_figure().savefig(figpath + '4k_nspdk.png', bbox_inches='tight')"
   ]
  },
  {
   "cell_type": "code",
   "execution_count": null,
   "id": "e0240477-08a6-4dc6-b900-26193184c7b2",
   "metadata": {},
   "outputs": [],
   "source": []
  },
  {
   "cell_type": "code",
   "execution_count": null,
   "id": "94ee23a5-9e71-4a5f-a732-6a5dd93e7950",
   "metadata": {},
   "outputs": [],
   "source": [
    "# are there different successrates for more populated families?\n",
    "manyseq, fewseq = filter_by_seqcount(a)\n",
    "rf15Labels, burned  = cl.getlabels_rfam15(a)\n",
    "\n",
    "# ax = plotSubsetScores(matrix, l, manyseq, fewseq, rf15Labels)\n",
    "# ax.get_figure().savefig(figpath + '4k_alisize.png', bbox_inches='tight')\n",
    "# plt.title('Hit Rate with full Rfam backdrop')"
   ]
  },
  {
   "cell_type": "code",
   "execution_count": null,
   "id": "f3d14878-cfd5-44b1-9832-ff853560ea63",
   "metadata": {},
   "outputs": [],
   "source": [
    "sum([1 for i,e in enumerate(rf15Labels) if i not in burned and e != 0])"
   ]
  },
  {
   "cell_type": "code",
   "execution_count": null,
   "id": "574e31ef-6367-4e8d-8788-9694c3bf514f",
   "metadata": {},
   "outputs": [],
   "source": [
    "# quick hack to compare the test set to the rest\n",
    "from sklearn import metrics\n",
    "pdist  = metrics.pairwise_distances(matrix)\n",
    "# pdist = sml.CSLS(matrix)\n",
    "print('all',sml.average_precision_nozero(pdist,l))\n",
    "print('test',sml.average_precision(pdist,rf15Labels, burned))  # we will fix this in the future.. nozero doesnt know about the burn. this is annoying \n",
    "print('many',sml.average_precision_labelsubset(pdist,l, manyseq[:-1]))\n",
    "print('few',sml.average_precision_labelsubset(pdist,l, fewseq[:-1]))\n",
    "# print('random',np.mean([sml.average_precision_labelsubset(pdist,l, needle.randomhalf(l)) for x in range(20)]))\n"
   ]
  },
  {
   "cell_type": "code",
   "execution_count": null,
   "id": "3bdfb95c-a61e-4e2e-85c9-27e129fbfbdc",
   "metadata": {},
   "outputs": [],
   "source": []
  },
  {
   "cell_type": "code",
   "execution_count": null,
   "id": "8da2457a-4237-4163-8649-e7c8669c77a6",
   "metadata": {},
   "outputs": [],
   "source": [
    "import collections\n",
    "\n",
    "z = collections.Counter(l)\n",
    "l1 = [ z[e] for e in manyseq[:-1]] \n",
    "l2 = [ z[e] for e in fewseq[:-1]] \n",
    "\n",
    "plt.hist(l1)\n",
    "plt.show()\n",
    "plt.hist(l2)\n",
    "\n"
   ]
  },
  {
   "cell_type": "markdown",
   "id": "b1234f80-c6af-42eb-aed9-e8350d8507b4",
   "metadata": {},
   "source": [
    "# are two enough to find the rest?"
   ]
  },
  {
   "cell_type": "code",
   "execution_count": null,
   "id": "4071653f-266d-4322-9592-d8d10df247fe",
   "metadata": {},
   "outputs": [],
   "source": [
    "\n",
    "\n",
    "ax = needle.plotNeedle(matrix, l)\n",
    "ax.get_figure().savefig(figpath + '4k_third.png', bbox_inches='tight')\n",
    "\n"
   ]
  },
  {
   "cell_type": "code",
   "execution_count": null,
   "id": "b49d7bef-34d5-4e50-b6c8-5b0a5a042457",
   "metadata": {},
   "outputs": [],
   "source": []
  },
  {
   "cell_type": "code",
   "execution_count": null,
   "id": "7b8db7d9-991d-4737-9462-d46cff2f948b",
   "metadata": {},
   "outputs": [],
   "source": [
    "# prints the closest hits  for each clan\n",
    "# needle.clanExtend(matrix,l,a,max=30)"
   ]
  },
  {
   "cell_type": "markdown",
   "id": "4968c506453d27e6",
   "metadata": {},
   "source": [
    "# END OF USABLE STUFF\n"
   ]
  },
  {
   "cell_type": "code",
   "execution_count": null,
   "id": "205f0e03-40df-415f-aaf4-998339233912",
   "metadata": {},
   "outputs": [],
   "source": [
    "cm_dict_ab={}\n",
    "cm_dict_ba={\n",
    "}\n",
    "with open('rfam-weakpairs','r') as f:\n",
    "    for line in f:\n",
    "        if line:\n",
    "            sline = line.split(' ')\n",
    "            cm_dict_ab[sline[0]+sline[1]] = line\n",
    "            cm_dict_ba[sline[1]+sline[0]] = line\n",
    "\n",
    "asdasdasdasdasd"
   ]
  },
  {
   "cell_type": "code",
   "execution_count": null,
   "id": "17f6258e-69f1-461a-8beb-9b683cbd649e",
   "metadata": {},
   "outputs": [],
   "source": [
    "vec = eg.Vectorizer( min_r = 2,min_d=1)\n",
    "import structout.intlistV2 as so \n",
    "\n",
    "def nice(values, colorids=[]):\n",
    "    symbols = '▁▂▃▄▅▆▇█'\n",
    "    values = np.array(values)\n",
    "    values = so.binning(values, count = len(symbols), ylim=False)\n",
    "    color = lambda x: '\\x1b[1;3%d;48m%s\\x1b[0m' % (1, x)\n",
    "    if not colorids: \n",
    "        return ''.join([symbols[v] for v in values])\n",
    "    else:\n",
    "        return ''.join([symbols[v] if i not in colorids else color(symbols[v]) for i,v in enumerate(values)])\n",
    "\n",
    "\n",
    "r = []\n",
    "done = set()\n",
    "needles = []\n",
    "rowz = []\n",
    "for i,ind in enumerate(neigh_ind):\n",
    "    # we want r0 and r1 to be equal and >0.. \n",
    "    rowlabels = yy[ind]\n",
    "    if rowlabels[0] == 0 or rowlabels[0]!=rowlabels[1]:\n",
    "       continue \n",
    "    # we want \n",
    "    c,d = ind[0], ind[1]\n",
    "    if (c,d) in done:\n",
    "        continue\n",
    "    else:\n",
    "        done.add((d,c))\n",
    "    \n",
    "    needle = np.array([ (a + b) /2  for a,b in zip(matrix[c].toarray()[0],matrix[d].toarray()[0])])\n",
    "    needles.append(needle)\n",
    "    rowz.append((i,c,d))\n",
    "    #input = np.log1p(matrix[[c,d],:])\n",
    "    #needle = np.asarray(np.sum(input, axis = 0))[0]\n",
    "    #input = matrix[[c,d],:]\n",
    "    #needle = np.asarray(np.sum(input, axis = 0))[0]\n",
    "    # FAB\n",
    "    #index_helper = np.array([((a+b)/2) if a and b else 0 for a,b in zip(matrix[c].toarray()[0],matrix[d].toarray()[0]) ])\n",
    "    # needle = np.array([(a+b)/2 for a,b in zip(matrix[c].toarray()[0],matrix[d].toarray()[0]) if a and b])\n",
    "    #indices = np.argsort(-np.dot(matrix.todense()[:, index_helper > 0] , needle.T )).A1 [:50]\n",
    "    \n",
    "    # dist, indices = k_inst.kneighbors([needle])\n",
    "    \n",
    "k_inst = Kiez(algorithm='SklearnNN', hubness='csls',  n_candidates = 100,  \n",
    "              algorithm_kwargs= {'metric' : 'cosine'})\n",
    "k_inst.fit(np.array(needles),matrix.toarray() )\n",
    "dist, indices2 = k_inst.kneighbors()\n",
    "\n",
    "for indices,rid in zip( indices2, rowz):\n",
    "    i,c,d = rid\n",
    "    # CLASS IDS \n",
    "    r.append(str(yy[indices]))\n",
    "    print(r[-1])\n",
    "    # RFAM IDS \n",
    "    # IMPORTANCES\n",
    "    for i in indices[:10]: # FIST 20 HITS \n",
    "        graph = graphss[i]\n",
    "        seqid_scr = {}\n",
    "        for n,ve in zip(graph.nodes, vec.vertex_transform([graph])[0]):\n",
    "            seqid_scr[n]= (ve*needle)[0]\n",
    "        score_per_nucleotide = [ seqid_scr.get(j,0) for j in range(a[i].alignment.shape[1])]\n",
    "\n",
    "\n",
    "        conserved = [ nid for nid,di in graphss[i].nodes(data=True) if di['weight']> .5]\n",
    "        #### print per entry... \n",
    "        # NAME,  score \n",
    "        # position score + highlight \n",
    "        # structure line \n",
    "        # 5 ali lines \n",
    "        # newline \n",
    "        r.append(f\"{a[i].gf['DE']} {a[i].gf['ID']}\") # ! score later \n",
    "        # print(r[-1])\n",
    "        r.append(f\"{nice(score_per_nucleotide, conserved)}\") \n",
    "        # print(r[-1])\n",
    "        r.append(f\"{a[i].gc['SS_cons']}\") \n",
    "        # print(r[-1])\n",
    "        for row in a[i].alignment[:5]:\n",
    "            r.append(f'{\"\".join(row)}') \n",
    "        # print(r[-1])\n",
    "\n",
    "        labels = a[c].label, a[i].label\n",
    "        k = '%s.cm%s.cm' % labels\n",
    "        r.append(cm_dict_ab.get(k,'None'))\n",
    "        r.append(cm_dict_ba.get(k,'None'))\n",
    "        labels = a[d].label, a[i].label\n",
    "        k = '%s.cm%s.cm' % labels\n",
    "        r.append(cm_dict_ab.get(k,'None'))\n",
    "        r.append(cm_dict_ba.get(k,'None'))\n",
    "        r.append(f'') \n",
    "        \n",
    "    def id_to_gr(id):\n",
    "        graph = graphs[id]\n",
    "        for n,ve in zip(graph.nodes, vec.vertex_transform([graph])[0]):\n",
    "            graph.nodes[n]['asd']= ve*needle\n",
    "        return graph\n",
    "    #gra = list(map( id_to_gr, indices[0][:5]))\n",
    "    # ed.draw_graph_row(gra, vertex_color = 'asd') \n",
    "    def draw(g):\n",
    "        if len(g) < 400: \n",
    "            ed.draw_graph(g, vertex_color = 'asd', secondary_vertex_color = 'weight') ; plt.show()\n",
    "        else:\n",
    "            print(\"TOO LARGE TO DRAW\")\n",
    "    # [draw(g) for g in gra]\n",
    "\n",
    "\n"
   ]
  },
  {
   "cell_type": "code",
   "execution_count": null,
   "id": "19b99690-c6ed-4dee-9d3d-054ca37e3f1a",
   "metadata": {},
   "outputs": [],
   "source": [
    "r"
   ]
  },
  {
   "cell_type": "code",
   "execution_count": null,
   "id": "3dc71445-ebe4-4797-8b80-a141c1480e97",
   "metadata": {},
   "outputs": [],
   "source": [
    "np.array(needles).shape"
   ]
  },
  {
   "cell_type": "code",
   "execution_count": null,
   "id": "29e49823-79fc-4d31-a8bf-480fdefadcc4",
   "metadata": {},
   "outputs": [],
   "source": [
    "matrix.toarray().shape"
   ]
  },
  {
   "cell_type": "code",
   "execution_count": null,
   "id": "2e864b18-2f7c-4348-a92b-7c995a3169c7",
   "metadata": {},
   "outputs": [],
   "source": [
    "r[2]"
   ]
  },
  {
   "cell_type": "code",
   "execution_count": null,
   "id": "9a341eb4-2077-4149-b4f8-b95047af33c7",
   "metadata": {},
   "outputs": [],
   "source": [
    "r = [e if e is not None else \"None\" for e in r]"
   ]
  },
  {
   "cell_type": "code",
   "execution_count": null,
   "id": "06d372fd-06d6-462d-a1f4-0162d2bf829a",
   "metadata": {},
   "outputs": [],
   "source": [
    "with open('data.txt','w') as file:\n",
    "    file.write('\\n'.join(r))\n",
    "!cat data.txt | aha > data.html"
   ]
  },
  {
   "cell_type": "code",
   "execution_count": null,
   "id": "1a4e4d11-cb90-4ef0-b02f-acc85d7e1022",
   "metadata": {},
   "outputs": [],
   "source": [
    "import sklearn\n",
    "sklearn.__file__"
   ]
  },
  {
   "cell_type": "code",
   "execution_count": null,
   "id": "37231ae8-5307-476e-a4c3-0a48698aa54d",
   "metadata": {},
   "outputs": [],
   "source": [
    "# CAN WE FIND NEW INSTANCES OF A CLUSTER IF WE PROVIDE THE WHOLE CLUSTER?\n",
    "\n",
    "knn = KNeighborsClassifier(n_neighbors=100)\n",
    "yy= np.array(l)\n",
    "knn.fit(matrix ,yy)\n",
    "\n",
    "y_needle =  {}\n",
    "\n",
    "for y in np.unique(yy): \n",
    "    if y > 0:\n",
    "        # pairwise search ... \n",
    "        indices = np.where (yy==y)[0]\n",
    "        for a,b in [(i,j) for enu,i in enumerate(indices) for j in indices[enu+1:]]:\n",
    "            input = np.log1p(matrix[[c,d],:])\n",
    "            needle = np.asarray(np.sum(input, axis = 0))[0]           \n",
    "        \n",
    "    \n",
    "        \n",
    "        # input = matrix[yy == y]\n",
    "        # needle = np.asarray(np.all((input > 0).todense(), axis = 0))\n",
    "        \n",
    "        dist, indices = knn.kneighbors(needle)\n",
    "        print(y)\n",
    "        print(yy[indices])\n",
    "        print(dist)\n",
    "        y_needle[y] = (needle, indices) \n"
   ]
  },
  {
   "cell_type": "code",
   "execution_count": null,
   "id": "dd7a8f10-49d0-46ac-ab5e-c37c2e8bdff8",
   "metadata": {},
   "outputs": [],
   "source": []
  },
  {
   "cell_type": "code",
   "execution_count": null,
   "id": "899853ec-eacc-4316-8d4e-26d6fa46cc2b",
   "metadata": {},
   "outputs": [],
   "source": [
    "def show(y):\n",
    "    needle, indices = y_needle[y]\n",
    "    def id_to_gr(id):\n",
    "        graph = graphs[id]\n",
    "        for n,ve in zip(graph.nodes, vec.vertex_transform([graph])[0]):\n",
    "            graph.nodes[n]['asd']= ve*needle[0]\n",
    "        return graph\n",
    "    gra = list(map( id_to_gr, indices[0][:5]))\n",
    "    # ed.draw_graph_row(gra, vertex_color = 'asd') \n",
    "    \n",
    "    def draw(g):\n",
    "        if len(g) < 300: \n",
    "            ed.draw_graph(g, vertex_color = 'asd', secondary_vertex_color = 'weight') ; plt.show()\n",
    "        else:\n",
    "            print(\"TOO LARGE TO DRAW\")\n",
    "    [draw(g) for g in gra]\n",
    "\n",
    "\n",
    "show(8)\n"
   ]
  },
  {
   "cell_type": "code",
   "execution_count": null,
   "id": "678c7747-c6e1-4291-88a6-6b224baf1434",
   "metadata": {},
   "outputs": [],
   "source": [
    ">>> rng = np.random.RandomState(0)\n",
    ">>> source = rng.rand(61,65537)\n",
    ">>> target = rng.rand(4108,65537)\n",
    "\n",
    "\n",
    "# Step 2: Create a Kiez object\n",
    "kiezz = Kiez(hubness='localscaling')  # 'ls' stands for Local Scaling, you can also use 'mp' for Mutual Proximity\n",
    "\n",
    "# Step 3: Fit the Kiez object to your data\n",
    "kiezz.fit(source)\n",
    "\n",
    "# Step 4: Transform the data to get hubness-corrected distances\n",
    "X_corrected = kiez.transform(source)\n",
    "\n",
    "# Step 5: Convert the corrected data to a distance matrix\n",
    "#distance_matrix = nn.kneighbors_graph(X_corrected, mode='distance').toarray()"
   ]
  },
  {
   "cell_type": "code",
   "execution_count": null,
   "id": "cccc78c1-8229-449a-8dfc-ecd5aab5c85a",
   "metadata": {},
   "outputs": [],
   "source": [
    "nn_ind.shap"
   ]
  },
  {
   "cell_type": "code",
   "execution_count": null,
   "id": "a75e939b-037d-4064-8504-e4faa2e1dd3e",
   "metadata": {},
   "outputs": [],
   "source": [
    "import numpy as np\n",
    "\n",
    "a = np.arange(10)\n",
    "\n",
    "a+=4\n",
    "\n",
    "np.where(a < 6)[0]"
   ]
  },
  {
   "cell_type": "code",
   "execution_count": null,
   "id": "7a3c3462-fd59-4528-a680-6cdb80d11d91",
   "metadata": {},
   "outputs": [],
   "source": []
  },
  {
   "cell_type": "code",
   "execution_count": null,
   "id": "3d8fe8be-44f4-49b7-b502-e967254c0d8b",
   "metadata": {},
   "outputs": [],
   "source": [
    "from scipy.stats import binom"
   ]
  },
  {
   "cell_type": "code",
   "execution_count": null,
   "id": "3653332b-568d-4345-b03f-61a491befb16",
   "metadata": {},
   "outputs": [],
   "source": [
    "weights = [5,2,1]\n",
    "values = [50, 10, 20]\n",
    "z=[v for s, v in zip(weights, values) for _ in range(int(s))]"
   ]
  },
  {
   "cell_type": "code",
   "execution_count": null,
   "id": "a0f424f4-b191-4812-9252-51f55d2e02b2",
   "metadata": {},
   "outputs": [],
   "source": [
    "np.mean(z), np.std(z)"
   ]
  },
  {
   "cell_type": "code",
   "execution_count": null,
   "id": "573b49e5-c717-4ce2-ab55-deb48e57c8cb",
   "metadata": {},
   "outputs": [],
   "source": [
    "import numpy as np\n",
    "import matplotlib.pyplot as plt\n",
    "from sklearn.metrics import mutual_info_score\n",
    "\n",
    "# Generate test data\n",
    "np.random.seed(0)  # For reproducibility\n",
    "x = np.linspace(0, 10, 100)\n",
    "y = np.concatenate((2 * x[:30], np.full(70,  10))) + np.random.normal(0, 1, x.shape)\n",
    "\n",
    "# Calculate mutual information\n",
    "# To compute mutual information, we need to discretize the continuous variables\n",
    "# Here we use a simple binning approach\n",
    "x_bins = np.histogram_bin_edges(x, bins=10)\n",
    "y_bins = np.histogram_bin_edges(y, bins=10)\n",
    "\n",
    "# Discretize x and y\n",
    "x_digitized = np.digitize(x, x_bins)\n",
    "y_digitized = np.digitize(y, y_bins)\n",
    "\n",
    "# Calculate mutual information score\n",
    "mi_score = mutual_info_score(x_digitized, y_digitized)\n",
    "\n",
    "# Plot the data\n",
    "plt.figure(figsize=(10, 6))\n",
    "plt.scatter(x, y, color='blue', label='Data points', alpha=0.6)\n",
    "plt.title('Test Data: y vs. x (Constant Second Half)')\n",
    "plt.xlabel('x')\n",
    "plt.ylabel('y')\n",
    "plt.axhline(0, color='black', linewidth=0.5, linestyle='--')\n",
    "plt.axvline(0, color='black', linewidth=0.5, linestyle='--')\n",
    "plt.grid()\n",
    "plt.legend()\n",
    "plt.show()\n",
    "\n",
    "# Print the mutual information score\n",
    "print(f'Mutual Information Score: {mi_score:.4f}')"
   ]
  },
  {
   "cell_type": "code",
   "execution_count": null,
   "id": "804716a1-abfb-4528-a256-3b75a812cd63",
   "metadata": {},
   "outputs": [],
   "source": [
    "import numpy as np\n",
    "import matplotlib.pyplot as plt\n",
    "from sklearn.metrics import mutual_info_score\n",
    "\n",
    "# Generate test data\n",
    "np.random.seed(0)  # For reproducibility\n",
    "x = np.linspace(0, 10, 100)\n",
    "\n",
    "y = np.concatenate((2 * x[:50], 2 * (10 - x[50:]))) + np.random.normal(0, 1, x.shape)\n",
    "\n",
    "# Calculate mutual information\n",
    "# To compute mutual information, we need to discretize the continuous variables\n",
    "# Here we use a simple binning approach\n",
    "x_bins = np.histogram_bin_edges(x, bins=10)\n",
    "y_bins = np.histogram_bin_edges(y, bins=10)\n",
    "\n",
    "# Discretize x and y\n",
    "x_digitized = np.digitize(x, x_bins)\n",
    "y_digitized = np.digitize(y, y_bins)\n",
    "\n",
    "# Calculate mutual information score\n",
    "mi_score = mutual_info_score(x_digitized, y_digitized)\n",
    "\n",
    "# Plot the data\n",
    "plt.figure(figsize=(10, 6))\n",
    "plt.scatter(x, y, color='blue', label='Data points', alpha=0.6)\n",
    "plt.title('Test Data: y vs. x')\n",
    "plt.xlabel('x')\n",
    "plt.ylabel('y')\n",
    "plt.axhline(0, color='black', linewidth=0.5, linestyle='--')\n",
    "plt.axvline(0, color='black', linewidth=0.5, linestyle='--')\n",
    "plt.grid()\n",
    "plt.legend()\n",
    "plt.show()\n",
    "\n",
    "# Print the mutual information score\n",
    "print(f'Mutual Information Score: {mi_score:.4f}')"
   ]
  }
 ],
 "metadata": {
  "kernelspec": {
   "display_name": "Python 3 (ipykernel)",
   "language": "python",
   "name": "python3"
  },
  "language_info": {
   "codemirror_mode": {
    "name": "ipython",
    "version": 3
   },
   "file_extension": ".py",
   "mimetype": "text/x-python",
   "name": "python",
   "nbconvert_exporter": "python",
   "pygments_lexer": "ipython3"
  }
 },
 "nbformat": 4,
 "nbformat_minor": 5
}
