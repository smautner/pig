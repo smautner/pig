{
 "cells": [
  {
   "cell_type": "code",
   "execution_count": null,
   "id": "bb8e20f7-d090-4992-a99a-5c02f77a7613",
   "metadata": {},
   "outputs": [],
   "source": [
    "%load_ext autoreload\n",
    "%autoreload 2\n",
    "%matplotlib inline\n",
    "import smallgraph as sg\n",
    "import networkx as nx\n",
    "from matplotlib import pyplot as plt\n",
    "import lmz\n",
    "import eden.graph as eg\n",
    "import eden.display as ed\n",
    "from yoda.graphs import ali2graph\n",
    "import numpy as np\n",
    "import yoda.ml.simpleMl as sml\n",
    "import eden.display as ed\n",
    "from yoda.alignments import load_rfam, filter_by_seqcount"
   ]
  },
  {
   "cell_type": "code",
   "execution_count": null,
   "id": "6d0e4bac-4829-4074-963d-6b62f1782edb",
   "metadata": {},
   "outputs": [],
   "source": []
  },
  {
   "cell_type": "code",
   "execution_count": null,
   "id": "575bb567-a282-42c7-8fee-3893d848b47a",
   "metadata": {},
   "outputs": [],
   "source": []
  },
  {
   "cell_type": "code",
   "execution_count": null,
   "id": "88cff557-7df8-4a60-977d-2368ab073946",
   "metadata": {},
   "outputs": [],
   "source": [
    "from ubergauss import optimization as op\n",
    "import yoda.ml.simpleMl as sml\n",
    "\n",
    "\n",
    "def eval(ali,labels,\n",
    "         ct = .95, \n",
    "         RYthresh = 0,\n",
    "         norm = True, \n",
    "         d1 = .7,\n",
    "         d2= .4,\n",
    "         bad_weight = 0.1,\n",
    "         fix_edges = True,\n",
    "         # boost_range = 3, boost_thresh = .5, boost_weight = 1,\n",
    "         min_r = 2, \n",
    "         nest = True,\n",
    "         min_d = 1,**nothingtosee):\n",
    "    \n",
    "    graphs = lmz.Map(ali2graph.set_weight_label, ali, RYthresh=RYthresh)\n",
    "    graphs = lmz.Map(ali2graph.dillute, graphs, dilute1 = d1, dilute2 = d2, fix_edges = fix_edges )\n",
    "    graphs = lmz.Map(ali2graph.set_weight, graphs,  bad_weight = bad_weight,  consThresh= ct )\n",
    "    \n",
    "    if nest:\n",
    "        graphs = lmz.Map(ali2graph.donest, graphs)\n",
    "    # graphs = lmz.Map(ali2graph.nearstem, graphs, boost_range = boost_range, boost_thresh = boost_thresh, boost_weight = boost_weight)\n",
    "    # graphs = [a.graph for a in ali]\n",
    "    \n",
    "    \n",
    "    # matrix = vectorize_graphs_hack(graphs,disthack = kernelhack, normalization=norm, min_r = min_r,min_d=min_d,r=r,d=d, inner_normalization=norm) #.toarray() \n",
    "    matrix = eg.vectorize(graphs, normalization=norm,\n",
    "                      min_r = min_r,min_d=min_d,\n",
    "                      inner_normalization=norm) #.toarray()\n",
    "        \n",
    "    # ret= sml.knn_accuracy(matrix,labels)\n",
    "    #ret = sml.knn_accuracy(matrix,labels)\n",
    "    matrix = 1- (matrix @ matrix.T).toarray()\n",
    "    ret = sml.average_precision(-matrix,labels)\n",
    "    ret = {'score': ret} # , 'score_many': sml.knn_accuracy(matrix,labels, select_labels = manyseq)}\n",
    "    return ret\n",
    "\n",
    "\n",
    "\n",
    "\n",
    "space = '''min_r 0 5 1\n",
    "min_d 0 5 1\n",
    "nest 0 1 1\n",
    "fix_edges 0 1 1\n",
    "ct .6 1\n",
    "d1 0 1\n",
    "d2 0 1\n",
    "bad_weight 0 1'''\n",
    "\n",
    "#a,l, te = sg.makedata()\n",
    "# eval(a,l,**{'min_d': 3, 'min_r': 4, 'nest': 1})\n"
   ]
  },
  {
   "cell_type": "code",
   "execution_count": null,
   "id": "774fe2aa-c1df-40d0-a1ed-50d370a3b933",
   "metadata": {},
   "outputs": [],
   "source": [
    "# make some data\n",
    "datasets = [   sg.makedata(splits = 3)[:2] for i in range (6)  ]"
   ]
  },
  {
   "cell_type": "code",
   "execution_count": null,
   "id": "323355d8-b74b-4058-b0cd-1aa6481369ba",
   "metadata": {},
   "outputs": [],
   "source": [
    "space = sg.string_to_space(space)\n",
    "parameters = [space.sample() for i in range(100)]"
   ]
  },
  {
   "cell_type": "code",
   "execution_count": null,
   "id": "14e26bed-aed2-4a5a-ba76-d8f0345bd411",
   "metadata": {},
   "outputs": [],
   "source": [
    "\n",
    "results = [ op.gridsearch(eval, parameters , tasks = parameters , data= [a,l], mp=True)  for a,l in datasets]\n"
   ]
  },
  {
   "cell_type": "code",
   "execution_count": null,
   "id": "c1ba908a-8870-4993-9a12-789a359f5dbc",
   "metadata": {},
   "outputs": [],
   "source": [
    "import pandas as pd\n",
    "results_merged = pd.concat(results, ignore_index=False)"
   ]
  },
  {
   "cell_type": "code",
   "execution_count": null,
   "id": "5f931254-27c6-4952-803f-1e474ea2c007",
   "metadata": {},
   "outputs": [],
   "source": [
    "result =  results_merged\n",
    "# Calculate the average score for each index\n",
    "average_scores = result.groupby(result.index)['score'].mean()\n",
    "\n",
    "# Rank the average scores\n",
    "ranks = average_scores.rank(method='min')\n",
    "\n",
    "# Map the ranks back to the original DataFrame\n",
    "result['average_score'] = result.index.map(average_scores)\n",
    "result['rank'] = result.index.map(ranks)"
   ]
  },
  {
   "cell_type": "code",
   "execution_count": null,
   "id": "614e7aef-68ce-422f-9b55-1fffe07c718b",
   "metadata": {},
   "outputs": [],
   "source": []
  },
  {
   "cell_type": "code",
   "execution_count": null,
   "id": "4ad7feec-4462-4cb4-9e0b-d5ecf3973610",
   "metadata": {},
   "outputs": [],
   "source": [
    "import seaborn as sns\n",
    "sns.lineplot(data = result, x='rank', y= 'score')"
   ]
  },
  {
   "cell_type": "code",
   "execution_count": null,
   "id": "c82383eb-5098-4aab-923b-b8e23625b4b2",
   "metadata": {},
   "outputs": [],
   "source": []
  }
 ],
 "metadata": {
  "kernelspec": {
   "display_name": "Python 3 (ipykernel)",
   "language": "python",
   "name": "python3"
  },
  "language_info": {
   "codemirror_mode": {
    "name": "ipython",
    "version": 3
   },
   "file_extension": ".py",
   "mimetype": "text/x-python",
   "name": "python",
   "nbconvert_exporter": "python",
   "pygments_lexer": "ipython3"
  }
 },
 "nbformat": 4,
 "nbformat_minor": 5
}
