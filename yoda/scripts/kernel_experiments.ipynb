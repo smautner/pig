{
 "cells": [
  {
   "cell_type": "code",
   "execution_count": null,
   "id": "bb8e20f7-d090-4992-a99a-5c02f77a7613",
   "metadata": {},
   "outputs": [],
   "source": [
    "%load_ext autoreload\n",
    "%autoreload 2\n",
    "%matplotlib inline\n",
    "import smallgraph as sg\n",
    "import networkx as nx\n",
    "from matplotlib import pyplot as plt\n",
    "import lmz\n",
    "import eden.graph as eg\n",
    "import eden.display as ed\n",
    "from yoda.graphs import ali2graph\n",
    "import numpy as np\n",
    "import yoda.ml.simpleMl as sml\n",
    "import eden.display as ed\n",
    "from yoda.alignments import load_rfam, filter_by_seqcount"
   ]
  },
  {
   "cell_type": "code",
   "execution_count": null,
   "id": "6d0e4bac-4829-4074-963d-6b62f1782edb",
   "metadata": {},
   "outputs": [],
   "source": [
    "a,l, te = sg.makedata()"
   ]
  },
  {
   "cell_type": "code",
   "execution_count": null,
   "id": "5d8467a5-e8bd-454e-abc0-004a1dd14a49",
   "metadata": {},
   "outputs": [],
   "source": [
    "g =  ali2graph.nearstem( graphs[13].copy(), boost_range = 2, boost_thresh = .5, boost_weight = 100)\n",
    "ed.draw_graph(g, vertex_color='weight')"
   ]
  },
  {
   "cell_type": "code",
   "execution_count": null,
   "id": "11ba61f9-17de-4235-b92c-60f3a0fa9c63",
   "metadata": {},
   "outputs": [],
   "source": []
  },
  {
   "cell_type": "code",
   "execution_count": null,
   "id": "38685e11-67d8-43c4-aa88-2a942a379dab",
   "metadata": {},
   "outputs": [],
   "source": [
    "graphs = lmz.Map(ali2graph.writecons, a)\n",
    "graphs = lmz.Map(ali2graph.dillute, graphs, dilute1 = .7, dilute2 = .4, fix_edges = True)\n",
    "graphs = lmz.Map(ali2graph.conscut, graphs, \n",
    "                 consThresh= .97, replacelabel = False )\n",
    "# graphs = lmz.Map(ali2graph.nearstem, graphs, boost_range = 3, boost_thresh = .5, boost_weight = 1)\n",
    "\n",
    "matrix = eg.vectorize(graphs, normalization=True, min_r = 2,min_d=1, inner_normalization=True)\n",
    "sml.knn_accuracy(matrix,l)"
   ]
  },
  {
   "cell_type": "code",
   "execution_count": null,
   "id": "b78d4dd6-1a6d-4c29-b5f5-c13d1899ff04",
   "metadata": {},
   "outputs": [],
   "source": []
  },
  {
   "cell_type": "code",
   "execution_count": null,
   "id": "84d1c3ed-06e4-4f64-b65d-b27808b00501",
   "metadata": {},
   "outputs": [],
   "source": [
    "\n",
    "print([sml.clan_in_x_OLD(matrix,l,n) for n in range(50)])\n",
    "plt.plot([sml.clan_in_x_OLD(matrix,l,n) for n in range(50)])\n"
   ]
  },
  {
   "cell_type": "code",
   "execution_count": null,
   "id": "88cff557-7df8-4a60-977d-2368ab073946",
   "metadata": {},
   "outputs": [],
   "source": [
    "from ubergauss import optimization as op\n",
    "import yoda.ml.simpleMl as sml\n",
    "\n",
    "manyseq, fewseq = filter_by_seqcount(a)\n",
    "\n",
    "def eval(ali,labels,\n",
    "         ct = .95, \n",
    "         rl = False,\n",
    "         norm = True, \n",
    "         d1 = .7,\n",
    "         d2= .4,\n",
    "         bad_weight = 0.1,\n",
    "         fix_edges = True,\n",
    "         boost_range = 3, boost_thresh = .5, boost_weight = 1,\n",
    "         min_r = 2, \n",
    "         min_d = 1):\n",
    "    \n",
    "    graphs = lmz.Map(ali2graph.writecons, ali)\n",
    "    graphs = lmz.Map(ali2graph.dillute, graphs, dilute1 = d1, dilute2 = d2, fix_edges = fix_edges )\n",
    "    graphs = lmz.Map(ali2graph.conscut, graphs,  bad_weight = bad_weight, consThresh= ct, replacelabel = rl )\n",
    "    # graphs = lmz.Map(ali2graph.nearstem, graphs, boost_range = boost_range, boost_thresh = boost_thresh, boost_weight = boost_weight)\n",
    "    # graphs = [a.graph for a in ali]\n",
    "    \n",
    "    matrix = eg.vectorize(graphs, normalization=norm,\n",
    "                          min_r = min_r,min_d=min_d,\n",
    "                          inner_normalization=norm) #.toarray()\n",
    "    \n",
    "    # ret= sml.knn_accuracy(matrix,labels)\n",
    "    ret= sml.knn_accuracy(matrix,labels, select_labels=manyseq)\n",
    "    return ret\n",
    "\n",
    "\n",
    "space = '''rl 0 1 1\n",
    "d1 0 1\n",
    "d2 0 1\n",
    "bad_weight 0 .5'''\n",
    "space = sg.string_to_space(space)\n",
    "\n",
    "z= op.gridsearch(eval, space , tasks = [space.sample() for i in range(40)] , data= [a,l], mp=True)"
   ]
  },
  {
   "cell_type": "code",
   "execution_count": null,
   "id": "b57914a0-8bf3-411a-8463-55eafd34d00a",
   "metadata": {},
   "outputs": [],
   "source": [
    "eval(a,l,ct = .95, d1 = .7, d2= .4)"
   ]
  },
  {
   "cell_type": "code",
   "execution_count": null,
   "id": "04582774-e173-42dc-8f31-c323c085567c",
   "metadata": {},
   "outputs": [],
   "source": [
    "import seaborn as sns\n",
    "sns.pairplot(z, hue='score')\n",
    "plt.show()\n",
    "sg.uo.get_best(z)"
   ]
  },
  {
   "cell_type": "code",
   "execution_count": null,
   "id": "a0544972-e7d2-4561-8853-ea54d1a07e68",
   "metadata": {},
   "outputs": [],
   "source": [
    "sg.uo.dfprint(z)"
   ]
  },
  {
   "cell_type": "code",
   "execution_count": null,
   "id": "08efdd78-e3b4-458c-9c26-3de41c88d85e",
   "metadata": {},
   "outputs": [],
   "source": [
    "z.corr()"
   ]
  },
  {
   "cell_type": "code",
   "execution_count": null,
   "id": "d036d7ec-7617-476b-b53b-8b9102a976ff",
   "metadata": {},
   "outputs": [],
   "source": [
    "from sklearn.ensemble import RandomForestClassifier as rfc\n",
    "mod = rfc().fit(matrix, l)\n",
    "pred = mod.predict(matrix)\n",
    "from sklearn.metrics import accuracy_score\n",
    "accuracy_score(l,pred)\n",
    "ftscore = mod.feature_importances_"
   ]
  },
  {
   "cell_type": "code",
   "execution_count": null,
   "id": "cd1d28af-4f58-425e-a446-4d644437b9af",
   "metadata": {},
   "outputs": [],
   "source": []
  },
  {
   "cell_type": "code",
   "execution_count": null,
   "id": "82528362-1224-4bd9-8393-496c2853454b",
   "metadata": {},
   "outputs": [],
   "source": [
    "import umap\n",
    "e = umap.UMAP().fit_transform(matrix)\n",
    "plt.scatter(*e.T,c=l, cmap='tab20')\n"
   ]
  },
  {
   "cell_type": "code",
   "execution_count": null,
   "id": "00d44072-4443-425d-b811-36ed4b50c1af",
   "metadata": {},
   "outputs": [],
   "source": [
    "import yoda.ml.simpleMl as sml\n",
    "\n",
    "def slowplot(X,y):\n",
    "    z = np.unique(y)\n",
    "    for g in lmz.Grouper(z,9):\n",
    "        print(g)\n",
    "        translate = {asd:i for i,asd in enumerate(g)}\n",
    "        plt.scatter(*X.T, c= [ translate[l] if l in g else -1 for l in y  ], cmap = 'tab10')\n",
    "        plt.show()\n",
    "        plt.close()\n",
    "slowplot(e,l)       "
   ]
  },
  {
   "cell_type": "code",
   "execution_count": null,
   "id": "087e1f36-9fc0-47a3-b9d6-57d0e6d6e7b9",
   "metadata": {},
   "outputs": [],
   "source": [
    "import umap\n",
    "from sklearn.decomposition import PCA\n",
    "scr = ftscore[ftscore  > 0.00001]\n",
    "mat = matrix.T[ftscore > 0.00001]\n",
    "histomat = np.sort(mat, axis =0)\n",
    "e = umap.UMAP(n_neighbors = 100).fit_transform(histomat)\n",
    "# e = PCA(n_components=2).fit_transform(histomat)\n",
    "plt.scatter(*e.T,c=scr)"
   ]
  },
  {
   "cell_type": "code",
   "execution_count": null,
   "id": "1df58fde-92fa-4681-ac62-4c3e0cfc4abd",
   "metadata": {},
   "outputs": [],
   "source": [
    "%%time\n",
    "print(0)"
   ]
  },
  {
   "cell_type": "code",
   "execution_count": null,
   "id": "b92c476e-cf90-4158-9e97-31bb9a1619c5",
   "metadata": {},
   "outputs": [],
   "source": [
    "sml.knn_accuracy(m2,labels)"
   ]
  },
  {
   "cell_type": "code",
   "execution_count": null,
   "id": "5004ae40-b186-4508-a2c8-00a7d1b07480",
   "metadata": {},
   "outputs": [],
   "source": [
    "lengths = [aa.alignment.shape[0] for aa in a]\n",
    "z= [(aa.clusterlabel, aa.alignment.shape[0],i) for i,aa in enumerate(a)]\n",
    "for v in sorted(z):\n",
    "    print(v)"
   ]
  },
  {
   "cell_type": "code",
   "execution_count": null,
   "id": "cde75fcb-c207-4fa9-bf33-9556c3cc960c",
   "metadata": {},
   "outputs": [],
   "source": [
    "ed.draw_graph(graphs[243], vertex_color = 'weight')\n",
    "plt.show()\n",
    "ed.draw_graph(graphs[226], vertex_color = 'weight')\n",
    "plt.show()\n",
    "ed.draw_graph(graphs[248], vertex_color = 'weight')\n",
    "plt.show()"
   ]
  },
  {
   "cell_type": "code",
   "execution_count": null,
   "id": "9085823d-3f3b-4d30-82b9-57ba40305b69",
   "metadata": {},
   "outputs": [],
   "source": [
    "my_array = np.array([1, 2, 3, 4, 5, 6, 7, 8, 9])\n",
    "\n",
    "# Define the value you want to search for\n",
    "search_value = 4\n",
    "\n",
    "# Use numpy.where() to get the indices where the condition is true\n",
    "indices = np.where(my_array == search_value)[0]\n",
    "indices"
   ]
  },
  {
   "cell_type": "code",
   "execution_count": null,
   "id": "2313024d-bda8-4ea9-a0a2-974ad169f7a2",
   "metadata": {},
   "outputs": [],
   "source": []
  }
 ],
 "metadata": {
  "kernelspec": {
   "display_name": "Python 3 (ipykernel)",
   "language": "python",
   "name": "python3"
  },
  "language_info": {
   "codemirror_mode": {
    "name": "ipython",
    "version": 3
   },
   "file_extension": ".py",
   "mimetype": "text/x-python",
   "name": "python",
   "nbconvert_exporter": "python",
   "pygments_lexer": "ipython3"
  }
 },
 "nbformat": 4,
 "nbformat_minor": 5
}
