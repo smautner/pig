{
 "cells": [
  {
   "cell_type": "code",
   "execution_count": null,
   "id": "802c4dfa-46e1-4e75-9f68-6a90abb28c21",
   "metadata": {},
   "outputs": [],
   "source": [
    "%load_ext autoreload\n",
    "%autoreload 2\n",
    "%matplotlib inline\n",
    "\n",
    "import numpy as np\n",
    "from yoda.alignments import load_rfam\n",
    "from yoda import graphs as ygraphs\n",
    "\n",
    "import cmcomp\n",
    "\n",
    "data = {}\n",
    "import matplotlib as mpl\n",
    "mpl.rc(\"figure\", dpi=300)"
   ]
  },
  {
   "cell_type": "code",
   "execution_count": null,
   "id": "412e83ec-6e77-4cf4-95cb-261ac2a658f7",
   "metadata": {},
   "outputs": [],
   "source": [
    "a,l = load_rfam(full= False, add_cov= False)"
   ]
  },
  {
   "cell_type": "code",
   "execution_count": null,
   "id": "49d2850b-3694-4dbb-9238-e115b62e420e",
   "metadata": {},
   "outputs": [],
   "source": []
  },
  {
   "cell_type": "code",
   "execution_count": null,
   "id": "c691d4cf-061e-4240-87b4-1aade2e29306",
   "metadata": {},
   "outputs": [],
   "source": []
  },
  {
   "cell_type": "markdown",
   "id": "0ce16eb1-88a0-4da4-90af-dedd2cfe39fd",
   "metadata": {},
   "source": [
    "# CMCOMPARE"
   ]
  },
  {
   "cell_type": "code",
   "execution_count": null,
   "id": "9716c2a1-8bf8-4329-a8ac-ecf077f2d998",
   "metadata": {},
   "outputs": [],
   "source": [
    "\n",
    "\n",
    "# THIS IS HOW WE WOULD RERUN THE CALCULATION\n",
    "# names = [aa.gf[\"AC\"][3:] for aa in a]\n",
    "# [cmcomp.dumpcm(name) for name in names]\n",
    "# IMPORTANTRESULT = cmcomp.run_cmcompare_pairwise()\n",
    "# IMPORTANTRESULT.to_csv('cmcompare_full_run')\n",
    "\n",
    "# LOAD CMCOMP DATA\n",
    "data['CMCompare'] = cmcomp.loadcmcomp('cmcompare_full_run_2024_06_27')\n",
    "\n"
   ]
  },
  {
   "cell_type": "code",
   "execution_count": null,
   "id": "9583180e-67cd-4b9f-a292-1e4461030c66",
   "metadata": {},
   "outputs": [],
   "source": []
  },
  {
   "cell_type": "markdown",
   "id": "c681c449-8ab3-4f88-b9a6-b97b05c93263",
   "metadata": {},
   "source": [
    "# KRAID\n"
   ]
  },
  {
   "cell_type": "code",
   "execution_count": null,
   "id": "fb982d93-8ed5-4f01-bd09-508d9743a090",
   "metadata": {},
   "outputs": [],
   "source": [
    "matrix = ygraphs.alignment_to_vectors(a)\n",
    "\n",
    "\n",
    "'''\n",
    "def mkdf(mat): \n",
    "    sim = mat @ mat.T\n",
    "    # sim = -euclidean_distances(mat)\n",
    "    data = [{'cm1':a, 'cm2':b , 'score1': sim[a,b]} for a in Range(l) for b in Range(l)]\n",
    "    return pd.DataFrame(data)\n",
    "#yoda_data = mkdf(matrix)\n",
    "#yoda_dist = cmcomp.to_dist(cmcomp.pivot_numpy(yoda_data))\n",
    "'''\n",
    "\n",
    "from sklearn.metrics import euclidean_distances\n",
    "def mkdist(mat):\n",
    "    return  euclidean_distances(mat)\n",
    "    mat = (mat@mat.T).toarray()\n",
    "    mat+=abs(mat.min())\n",
    "    np.fill_diagonal(mat,0)\n",
    "    return mat\n",
    "\n",
    "\n",
    "ourmethod = 'KRAID'\n",
    "data[ourmethod] = mkdist(matrix)\n",
    "\n",
    "\n",
    "\n"
   ]
  },
  {
   "cell_type": "code",
   "execution_count": null,
   "id": "1f90d582-0b5a-4016-9b9a-a19a224750d4",
   "metadata": {},
   "outputs": [],
   "source": [
    "\n",
    "\n"
   ]
  },
  {
   "cell_type": "code",
   "execution_count": null,
   "id": "0ee248d0-54d4-490b-827c-199ccee0bbde",
   "metadata": {},
   "outputs": [],
   "source": []
  },
  {
   "cell_type": "code",
   "execution_count": null,
   "id": "f0d67dc6-3a23-43bf-894b-5265c7b17a08",
   "metadata": {},
   "outputs": [],
   "source": []
  },
  {
   "cell_type": "code",
   "execution_count": null,
   "id": "f9839a8d-6e46-427b-8f12-aecd470b97b3",
   "metadata": {},
   "outputs": [],
   "source": [
    "\n",
    "# one could do it like this:\n",
    "\n",
    "# a,l = load_rfam(full= False, add_cov= False)\n",
    "# graphs = lmz.Map(ali2graph.writecons, a)\n",
    "#eden_sim = ygraphs.vectorize_graphs(graphs, normalization=True, min_r = 2,min_d=1, inner_normalization=True)\n",
    "# data['NSPDK'] = mkdist(eden_sim)\n",
    "data['NSPDK'] = mkdist(ygraphs.vectorize_graphs([alignment.graph for alignment in a]))\n",
    "\n"
   ]
  },
  {
   "cell_type": "markdown",
   "id": "51ff046d-46d6-42c0-a7d0-a222068b3f4c",
   "metadata": {},
   "source": [
    "# INFERNAL"
   ]
  },
  {
   "cell_type": "code",
   "execution_count": null,
   "id": "5b32e385-8346-4397-ab11-e5adf8a6e5a3",
   "metadata": {},
   "outputs": [],
   "source": [
    "\n",
    "data['Infernal']=cmcomp.infernal_tbl_to_dist(a,l,'inftools/infernal.tbl')\n",
    "data['Infernal_global']=cmcomp.infernal_tbl_to_dist(a,l,'inftools/infernal_global.tbl')\n",
    "\n",
    "\n"
   ]
  },
  {
   "cell_type": "markdown",
   "id": "02c1cf94-70c0-4626-a28a-a24d38be73b4",
   "metadata": {},
   "source": [
    "# clan discovery"
   ]
  },
  {
   "cell_type": "code",
   "execution_count": null,
   "id": "0f7e8b7e-78ca-4c63-9f23-b62cbb6d68e6",
   "metadata": {},
   "outputs": [],
   "source": [
    "randomarray = np.random.rand(395,395)\n",
    "np.fill_diagonal(randomarray, 0)\n",
    "data['random']= randomarray"
   ]
  },
  {
   "cell_type": "code",
   "execution_count": null,
   "id": "94a13d3e-8872-4d8b-8c0b-7221601b3d9c",
   "metadata": {},
   "outputs": [],
   "source": [
    "# k clans plot \n",
    "# we also need to collect the results for the other normed methods -> 3 x 2 lines are in this plot \n",
    "\n",
    "#sns.reset_defaults()\n",
    "# FULL PLOT\n",
    "\n",
    "# z = sns.color_palette(\"muted\")\n",
    "# huemap = dict(zip(np.unique(df.Method),z.as_hex()))\n",
    "# print(huemap)\n",
    "\n",
    "#sns.reset_defaults()\n",
    "# REDUCED PLOT\n",
    "\n",
    "df = cmcomp.mkHitRateData(data,l)\n",
    "cmcomp.plot_hitrate_plusCSLS(df)\n",
    "cmcomp.plot_hitrate_noCSLS(df)\n"
   ]
  },
  {
   "cell_type": "code",
   "execution_count": null,
   "id": "c20eb2973d3c7565",
   "metadata": {},
   "outputs": [],
   "source": [
    "import numpy as np\n",
    "from yoda.ml import nearneigh\n",
    "\n",
    "# Example usage (assuming 'data' is defined and 'l' contains the labels)\n",
    "results = cmcomp.collect_results_precrec(data, l)#%%\n"
   ]
  },
  {
   "cell_type": "code",
   "execution_count": null,
   "id": "5986b5cee367126a",
   "metadata": {},
   "outputs": [],
   "source": [
    "import pandas as pd\n",
    "\n",
    "# Constant for the plot title\n",
    "\n",
    "\n",
    "# Original dataframe creation and full-data plot\n",
    "df = pd.DataFrame(results)\n",
    "cmcomp.plot_precision_recall_curve(df, style_column='Distances')\n",
    "\n",
    "# Filtering the dataframe and plotting filtered data\n",
    "filtered_df = df[(df['Distances'] == 'Normalized') & (df['Method'] != 'Infernal_global')]\n",
    "cmcomp.plot_precision_recall_curve(filtered_df)"
   ]
  },
  {
   "cell_type": "code",
   "execution_count": null,
   "id": "4f639763-5a1e-4aa7-b89c-8bc0f4150128",
   "metadata": {},
   "outputs": [],
   "source": [
    "df2 = cmcomp.make_results_table(data,l)\n",
    "print(df2.to_latex(index=True,  header=True, float_format=\"%.2f\"))\n",
    "\n",
    "df2"
   ]
  },
  {
   "cell_type": "code",
   "execution_count": null,
   "id": "5760d404-09f7-4d16-bf09-c19ad02ee6d0",
   "metadata": {},
   "outputs": [],
   "source": [
    "df2"
   ]
  }
 ],
 "metadata": {
  "kernelspec": {
   "display_name": "Python 3 (ipykernel)",
   "language": "python",
   "name": "python3"
  },
  "language_info": {
   "codemirror_mode": {
    "name": "ipython",
    "version": 3
   },
   "file_extension": ".py",
   "mimetype": "text/x-python",
   "name": "python",
   "nbconvert_exporter": "python",
   "pygments_lexer": "ipython3"
  }
 },
 "nbformat": 4,
 "nbformat_minor": 5
}
