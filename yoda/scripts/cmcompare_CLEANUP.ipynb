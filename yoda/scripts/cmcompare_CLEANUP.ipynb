{
 "cells": [
  {
   "cell_type": "code",
   "execution_count": null,
   "id": "802c4dfa-46e1-4e75-9f68-6a90abb28c21",
   "metadata": {},
   "outputs": [],
   "source": [
    "%load_ext autoreload\n",
    "%autoreload 2\n",
    "%matplotlib inline\n",
    "import networkx as nx\n",
    "from matplotlib import pyplot as plt\n",
    "import lmz\n",
    "import eden.graph as eg\n",
    "from yoda.graphs import ali2graph\n",
    "import numpy as np\n",
    "import yoda.ml.simpleMl as sml\n",
    "import eden.display as ed\n",
    "from yoda.alignments import load_rfam, filter_by_seqcount\n",
    "import ubergauss.tools as ut\n",
    "from yoda import graphs as ygraphs\n",
    "import subprocess\n",
    "import seaborn as sns\n",
    "from umap import UMAP\n",
    "from yoda import draw\n",
    "import ubergauss.optimization as uo \n",
    "import pandas as pd\n",
    "import smallgraph as sg\n",
    "import networkx as nx\n",
    "from matplotlib import pyplot as plt\n",
    "import lmz\n",
    "import eden.graph as eg\n",
    "from yoda.graphs import ali2graph\n",
    "import numpy as np\n",
    "import yoda.ml.simpleMl as sml\n",
    "import eden.display as ed\n",
    "from yoda.alignments import load_rfam, filter_by_seqcount\n",
    "import ubergauss.tools as ut\n",
    "from yoda import graphs as ygraphs"
   ]
  },
  {
   "cell_type": "code",
   "execution_count": null,
   "id": "49d2850b-3694-4dbb-9238-e115b62e420e",
   "metadata": {},
   "outputs": [],
   "source": [
    "import cmcomp\n",
    "data = {}"
   ]
  },
  {
   "cell_type": "markdown",
   "id": "0ce16eb1-88a0-4da4-90af-dedd2cfe39fd",
   "metadata": {},
   "source": [
    "# CMCOMPARE"
   ]
  },
  {
   "cell_type": "code",
   "execution_count": null,
   "id": "9716c2a1-8bf8-4329-a8ac-ecf077f2d998",
   "metadata": {},
   "outputs": [],
   "source": [
    "a,l = load_rfam(full= False, add_cov= False)\n",
    "names = [aa.gf[\"AC\"][3:] for aa in a]\n",
    "\n",
    "# THIS IS HOW WE WOULD RERUN THE CALCULATION\n",
    "# [cmcomp.dumpcm(name) for name in names]\n",
    "# IMPORTANTRESULT = cmcomp.run_cmcompare_pairwise()\n",
    "# IMPORTANTRESULT.to_csv('cmcompare_full_run')\n",
    "\n",
    "# LOAD CMCOMP DATA \n",
    "cmcompare_data = pd.read_csv('cmcompare_full_run_2024_06_27')\n",
    "cmcompare_data  = cmcompare_data.fillna(500) \n",
    "cmcompare_data['score1'] = cmcompare_data[['score', 'score2']].min(axis=1)\n",
    "cmcompare_data['score3'] = cmcompare_data[['score', 'score2']].max(axis=1)\n",
    "\n",
    "\n",
    "\n"
   ]
  },
  {
   "cell_type": "code",
   "execution_count": null,
   "id": "9583180e-67cd-4b9f-a292-1e4461030c66",
   "metadata": {},
   "outputs": [],
   "source": [
    "\n",
    "# the df has similarities.. \n",
    "cmcompare_dist = cmcomp.to_dist(cmcomp.pivot_numpy(cmcompare_data))\n",
    "data['cmcompare'] = cmcompare_dist\n",
    "cmcompare_mAP = cmcomp.mAP(cmcompare_dist,l)\n",
    "cmcompare_k_clans = cmcomp.k_clan_discovery(cmcompare_dist,l,50)"
   ]
  },
  {
   "cell_type": "markdown",
   "id": "c681c449-8ab3-4f88-b9a6-b97b05c93263",
   "metadata": {},
   "source": [
    "# YODA "
   ]
  },
  {
   "cell_type": "code",
   "execution_count": null,
   "id": "fb982d93-8ed5-4f01-bd09-508d9743a090",
   "metadata": {},
   "outputs": [],
   "source": [
    "\n",
    "import pandas as pd\n",
    "from lmz import Range\n",
    "from sklearn.metrics.pairwise import euclidean_distances\n",
    "def atograph(ali):\n",
    "    graph = ali2graph.writecons(ali)\n",
    "    graph = ali2graph.dillute( graph, dilute1 = .7, dilute2 = .4 , fix_edges =True)\n",
    "    # graph = ali2graph.conscut( graph,  consThresh= .95, replacelabel = False )\n",
    "    graphs = ali2graph.set_weight( graph,  consThresh = .97 )\n",
    "    # graphs = ali2graph.nearstem( graph, boost_range = 4, boost_thresh = .5, boost_weight = 1)\n",
    "    graphs = ali2graph.donest( graph)\n",
    "    return graph\n",
    "\n",
    "graphs = ut.xxmap(atograph, a)\n",
    "matrix = ygraphs.vectorize_graphs(graphs, normalization=True,\n",
    "                      min_r = 2,min_d=1,d=3,\n",
    "                      inner_normalization=True)\n",
    "\n",
    "\n",
    "def mkdf(mat): \n",
    "    sim = mat @ mat.T\n",
    "    # sim = -euclidean_distances(mat)\n",
    "    data = [{'cm1':a, 'cm2':b , 'score1': sim[a,b]} for a in Range(l) for b in Range(l)]\n",
    "    return pd.DataFrame(data)\n",
    "    \n",
    "yoda_data = mkdf(matrix)"
   ]
  },
  {
   "cell_type": "code",
   "execution_count": null,
   "id": "92b5b06f-f643-4c1c-9070-ee04c800c5ae",
   "metadata": {},
   "outputs": [],
   "source": [
    "yoda_dist = cmcomp.to_dist(cmcomp.pivot_numpy(yoda_data))\n",
    "yoda_mAP = cmcomp.mAP(yoda_dist,l)\n",
    "yoda_k_clans = cmcomp.k_clan_discovery(yoda_dist,l,50)\n",
    "data['yoda'] = yoda_dist\n",
    "from sklearn.preprocessing import normalize\n",
    "yoda_norm_dist = normalize(yoda_dist, axis=0)\n",
    "yoda_norm_mAP = cmcomp.mAP(yoda_norm_dist,l)\n",
    "yoda_norm_k_clans = cmcomp.k_clan_discovery(yoda_norm_dist,l,50)"
   ]
  },
  {
   "cell_type": "markdown",
   "id": "51ff046d-46d6-42c0-a7d0-a222068b3f4c",
   "metadata": {},
   "source": [
    "# INFERNAL"
   ]
  },
  {
   "cell_type": "code",
   "execution_count": null,
   "id": "5b32e385-8346-4397-ab11-e5adf8a6e5a3",
   "metadata": {},
   "outputs": [],
   "source": [
    "import inferencemodel as inf\n",
    "SIM_INF = inf.readCmscanAndMakeTable((a,l), path = 'inftools/infernal.tbl')\n",
    "\n",
    "infernal_dist = cmcomp.to_dist(SIM_INF)\n",
    "data['infernal']=infernal_dist\n",
    "indices = np.where(infernal_dist == 10000)\n",
    "noise = np.random.normal(0, 1, size=len(indices[0]))\n",
    "infernal_dist[indices] += noise\n",
    "\n",
    "infernal_mAP = cmcomp.mAP(infernal_dist,l)\n",
    "infernal_k_clans = cmcomp.k_clan_discovery(infernal_dist,l,50)\n"
   ]
  },
  {
   "cell_type": "code",
   "execution_count": null,
   "id": "94a13d3e-8872-4d8b-8c0b-7221601b3d9c",
   "metadata": {},
   "outputs": [],
   "source": [
    "# k clans plot \n",
    "# we also need to collect the results for the other normed methods -> 3 x 2 lines are in this plot \n",
    "\n",
    "r = []\n",
    "for k,dist in data.items():\n",
    "    for i,val in enumerate( cmcomp.k_clan_discovery(dist,l,50)[1:]):\n",
    "        r+=[{'Distances':'raw','Method':k,'neighbors':i+1,'mean clan discovery':val}]\n",
    "    \n",
    "    dist_norm = normalize(dist, axis=0)\n",
    "\n",
    "    for i,val in enumerate( cmcomp.k_clan_discovery(dist_norm,l,50)[1:]):\n",
    "        r+=[{'Distances':'normalized','Method':k,'neighbors':i+1,'mean clan discovery':val}]\n",
    "        \n",
    "df = pd.DataFrame(r)\n",
    "\n",
    "\n",
    "#sns.reset_defaults()\n",
    "sns.set_theme()\n",
    "sns.set_context(\"talk\")\n",
    "ax= sns.lineplot(df, x= 'neighbors', y= 'mean clan discovery',hue='Method', style='Distances') \n",
    "sns.move_legend( ax,\"center left\", bbox_to_anchor=(1, 0.5))\n",
    "plt.show()\n",
    "plt.close()"
   ]
  },
  {
   "cell_type": "code",
   "execution_count": null,
   "id": "ced37f98-d5d4-423b-a82d-bd8e71716f7f",
   "metadata": {},
   "outputs": [],
   "source": [
    "# precision recall, there are also 3 methods and a hue that will be the normalisation, \n",
    "# we make a dataframe oO \n",
    "# we need to report mAP and AUC seperately i think"
   ]
  },
  {
   "cell_type": "code",
   "execution_count": null,
   "id": "b826c1b8-5107-4cf6-a0a0-0bf8af9f6a13",
   "metadata": {},
   "outputs": [],
   "source": [
    "import numpy as np\n",
    "from sklearn.metrics import precision_recall_curve, auc\n",
    "import matplotlib.pyplot as plt\n",
    "\n",
    "def get_pairwise_distances(dist_matrix, labels):\n",
    "    pairwise_distances = []\n",
    "    pairwise_labels = []\n",
    "    n = dist_matrix.shape[0]\n",
    "\n",
    "    for i in range(n):\n",
    "        for j in range(i+1, n):\n",
    "            pairwise_distances.append(dist_matrix[i][j])\n",
    "            pairwise_labels.append(labels[i] == labels[j]) \n",
    "\n",
    "    return np.array(pairwise_distances), np.array(pairwise_labels)\n",
    "\n",
    "\n",
    "def prec_recall_plot(distances, labels):\n",
    "    distances, true_labels = get_pairwise_distances(distances, labels)\n",
    "    precision, recall, thresholds = precision_recall_curve(true_labels, -distances) \n",
    "    print(f'{auc(recall, precision)=}')\n",
    "    return precision, recall\n",
    "    # Plot Precision-Recall curve\n",
    "\n",
    "\n",
    "\n",
    "\n",
    "r = []\n",
    "for k,dist in data.items():\n",
    "    \n",
    "    #for p,re in zip(*prec_recall_plot(dist,l)):\n",
    "    #    r+=[{'Distances':'Raw','Method':k,'precision':p,'recall':re}]\n",
    "    \n",
    "    dist_norm = normalize(dist, axis=0)\n",
    "\n",
    "    for p,re in zip(*prec_recall_plot(dist_norm,l)):\n",
    "        r+=[{'Distances':'Normalized','Method':k,'precision':p,'recall':re}]\n",
    "        \n",
    "df = pd.DataFrame(r)\n",
    "\n",
    "\n",
    "#sns.reset_defaults()\n",
    "sns.set_theme()\n",
    "sns.set_context(\"talk\")\n",
    "ax= sns.lineplot(df, y= 'precision', x= 'recall', hue='Method', style='Distances') \n",
    "sns.move_legend( ax,\"center left\", bbox_to_anchor=(1, 0.5))\n",
    "plt.show()\n",
    "plt.close()"
   ]
  },
  {
   "cell_type": "code",
   "execution_count": null,
   "id": "37825473-fdc1-4430-a1a5-4a05a164d653",
   "metadata": {},
   "outputs": [],
   "source": [
    "\n",
    "\n",
    "prec_recall_plot(DIST_INF,l)\n",
    "plt.matshow(DIST_INF)\n",
    "plt.show()"
   ]
  },
  {
   "cell_type": "code",
   "execution_count": null,
   "id": "4f639763-5a1e-4aa7-b89c-8bc0f4150128",
   "metadata": {},
   "outputs": [],
   "source": []
  }
 ],
 "metadata": {
  "kernelspec": {
   "display_name": "Python 3 (ipykernel)",
   "language": "python",
   "name": "python3"
  },
  "language_info": {
   "codemirror_mode": {
    "name": "ipython",
    "version": 3
   },
   "file_extension": ".py",
   "mimetype": "text/x-python",
   "name": "python",
   "nbconvert_exporter": "python",
   "pygments_lexer": "ipython3"
  }
 },
 "nbformat": 4,
 "nbformat_minor": 5
}
