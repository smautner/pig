{
 "cells": [
  {
   "cell_type": "code",
   "execution_count": null,
   "id": "802c4dfa-46e1-4e75-9f68-6a90abb28c21",
   "metadata": {},
   "outputs": [],
   "source": [
    "import matplotlib.pyplot as plt\n",
    "%load_ext autoreload\n",
    "%autoreload 2\n",
    "%matplotlib inline\n",
    "\n",
    "import numpy as np\n",
    "from yoda.alignments import load_rfam\n",
    "from yoda import graphs as ygraphs\n",
    "\n",
    "import cmcomp\n",
    "import matplotlib as mpl\n",
    "mpl.rc(\"figure\", dpi=100)\n",
    "\n",
    "import matplotlib.pyplot as plt"
   ]
  },
  {
   "cell_type": "code",
   "execution_count": null,
   "id": "412e83ec-6e77-4cf4-95cb-261ac2a658f7",
   "metadata": {},
   "outputs": [],
   "source": [
    "a,l = load_rfam(full= False, add_cov= False)"
   ]
  },
  {
   "cell_type": "markdown",
   "id": "0ce16eb1-88a0-4da4-90af-dedd2cfe39fd",
   "metadata": {},
   "source": [
    "# CMCOMPARE"
   ]
  },
  {
   "cell_type": "code",
   "execution_count": null,
   "id": "6160fb018a0327a5",
   "metadata": {},
   "outputs": [],
   "source": []
  },
  {
   "cell_type": "code",
   "execution_count": null,
   "id": "4d283b9f77482ea0",
   "metadata": {},
   "outputs": [],
   "source": [
    "\n",
    "data = {}\n",
    "\n",
    "# THIS IS HOW WE WOULD RERUN THE CALCULATION\n",
    "# names = [aa.gf[\"AC\"][3:] for aa in a]\n",
    "# [cmcomp.dumpcm(name) for name in names]\n",
    "# IMPORTANTRESULT = cmcomp.run_cmcompare_pairwise()\n",
    "# IMPORTANTRESULT.to_csv('cmcompare_full_run')\n",
    "\n",
    "# LOAD CMCOMP DATA\n",
    "data['CMCompare'] = cmcomp.loadcmcomp('cmcompare_full_run_2024_06_27')\n",
    "\n"
   ]
  },
  {
   "cell_type": "code",
   "execution_count": null,
   "id": "b34c08eb4810c596",
   "metadata": {},
   "outputs": [],
   "source": []
  },
  {
   "cell_type": "markdown",
   "id": "e5083effabea4946",
   "metadata": {},
   "source": [
    "# KRAID\n"
   ]
  },
  {
   "cell_type": "code",
   "execution_count": null,
   "id": "6eb8e02f37ed1ed9",
   "metadata": {},
   "outputs": [],
   "source": [
    "matrix = ygraphs.alignment_to_vectors(a)\n",
    "\n",
    "\n",
    "'''\n",
    "def mkdf(mat):\n",
    "    sim = mat @ mat.T\n",
    "    # sim = -euclidean_distances(mat)\n",
    "    data = [{'cm1':a, 'cm2':b , 'score1': sim[a,b]} for a in Range(l) for b in Range(l)]\n",
    "    return pd.DataFrame(data)\n",
    "#yoda_data = mkdf(matrix)\n",
    "#yoda_dist = cmcomp.to_dist(cmcomp.pivot_numpy(yoda_data))\n",
    "'''\n",
    "\n",
    "from sklearn.metrics.pairwise import cosine_distances\n",
    "ourmethod = 'KRAID'\n",
    "data[ourmethod] = cosine_distances(matrix)\n",
    "\n",
    "\n",
    "\n"
   ]
  },
  {
   "cell_type": "code",
   "execution_count": null,
   "id": "5fab9a9e78455fd4",
   "metadata": {},
   "outputs": [],
   "source": [
    "\n",
    "# one could do it like this:\n",
    "\n",
    "# a,l = load_rfam(full= False, add_cov= False)\n",
    "# graphs = lmz.Map(ali2graph.writecons, a)\n",
    "#eden_sim = ygraphs.vectorize_graphs(graphs, normalization=True, min_r = 2,min_d=1, inner_normalization=True)\n",
    "# data['NSPDK'] = mkdist(eden_sim)\n",
    "data['NSPDK'] = cosine_distances(ygraphs.vectorize_graphs([alignment.graph for alignment in a]))\n",
    "\n"
   ]
  },
  {
   "cell_type": "markdown",
   "id": "e67e7c06fe1087f1",
   "metadata": {},
   "source": [
    "# INFERNAL"
   ]
  },
  {
   "cell_type": "code",
   "execution_count": null,
   "id": "1dd4043df526719c",
   "metadata": {},
   "outputs": [],
   "source": [
    "\n",
    "data['Infernal']=cmcomp.infernal_tbl_to_dist(a,l,'inftools/infernal.tbl')\n",
    "data['Infernal_global']=cmcomp.infernal_tbl_to_dist(a,l,'inftools/infernal_global.tbl')\n",
    "\n",
    "\n"
   ]
  },
  {
   "cell_type": "markdown",
   "id": "c31bc6cc152e725e",
   "metadata": {},
   "source": [
    "# clan discovery"
   ]
  },
  {
   "cell_type": "code",
   "execution_count": null,
   "id": "28fbf930ae9a9e3c",
   "metadata": {},
   "outputs": [],
   "source": [
    "randomarray = np.random.rand(395,395)\n",
    "np.fill_diagonal(randomarray, 0)\n",
    "data['random']= randomarray"
   ]
  },
  {
   "cell_type": "code",
   "execution_count": null,
   "id": "7cf3827d532c06a6",
   "metadata": {},
   "outputs": [],
   "source": [
    "# k clans plot\n",
    "# we also need to collect the results for the other normed methods -> 3 x 2 lines are in this plot\n",
    "figpath =  !echo $HOME/pigplot/\n",
    "figpath = figpath[0]\n",
    "figpath"
   ]
  },
  {
   "cell_type": "code",
   "execution_count": null,
   "id": "4da7fd61d0a3d58a",
   "metadata": {},
   "outputs": [],
   "source": [
    "#sns.reset_defaults()\n",
    "# FULL PLOT\n",
    "\n",
    "# z = sns.color_palette(\"muted\")\n",
    "# huemap = dict(zip(np.unique(df.Method),z.as_hex()))\n",
    "# print(huemap)\n",
    "\n",
    "#sns.reset_defaults()\n",
    "# REDUCED PLOT\n"
   ]
  },
  {
   "cell_type": "code",
   "execution_count": null,
   "id": "bf437621434bfbc5",
   "metadata": {},
   "outputs": [],
   "source": [
    "\n",
    "df = cmcomp.mkHitRateData(data,l)\n",
    "\n",
    "ax = cmcomp.plot_hitrate_plusCSLS(df)\n",
    "ax.get_figure().savefig(figpath + '350hitrate_full.png' ,  bbox_inches='tight')\n",
    "ax = cmcomp.plot_hitrate_noCSLS(df)\n",
    "ax.get_figure().savefig(figpath + '350hitrate.png',bbox_inches='tight')\n",
    "\n"
   ]
  },
  {
   "cell_type": "code",
   "execution_count": null,
   "id": "da6098f831ae7b9a",
   "metadata": {},
   "outputs": [],
   "source": [
    "import numpy as np\n",
    "from yoda.ml import nearneigh\n",
    "\n",
    "# Example usage (assuming 'data' is defined and 'l' contains the labels)\n",
    "results = cmcomp.collect_results_precrec(data, l)#%%\n"
   ]
  },
  {
   "cell_type": "code",
   "execution_count": null,
   "id": "5c316044de13bf86",
   "metadata": {},
   "outputs": [],
   "source": [
    "import pandas as pd\n",
    "\n",
    "# Constant for the plot title\n",
    "\n",
    "\n",
    "# Original dataframe creation and full-data plot\n",
    "df = pd.DataFrame(results)\n",
    "ax = cmcomp.plot_precision_recall_curve(df, style_column='Distances')\n",
    "ax.get_figure().savefig(figpath + '350precrec_full.png', bbox_inches='tight')\n",
    "\n",
    "# Filtering the dataframe and plotting filtered data\n",
    "filtered_df = df[(df['Distances'] == 'Normalized') & (df['Method'] != 'Infernal_global')]\n",
    "ax = cmcomp.plot_precision_recall_curve(filtered_df)\n",
    "\n",
    "ax.get_figure().savefig(figpath + '350precrec.png', bbox_inches='tight')\n"
   ]
  },
  {
   "cell_type": "code",
   "execution_count": null,
   "id": "1afe2c0370d2bd65",
   "metadata": {},
   "outputs": [],
   "source": [
    "df2 = cmcomp.make_results_table(data,l)\n",
    "print(df2.to_latex(index=True,  header=True, float_format=\"%.2f\"))\n",
    "\n",
    "df2"
   ]
  },
  {
   "cell_type": "code",
   "execution_count": null,
   "id": "6961b0279686cd39",
   "metadata": {},
   "outputs": [],
   "source": []
  }
 ],
 "metadata": {
  "kernelspec": {
   "display_name": "Python 3 (ipykernel)",
   "language": "python",
   "name": "python3"
  },
  "language_info": {
   "codemirror_mode": {
    "name": "ipython",
    "version": 3
   },
   "file_extension": ".py",
   "mimetype": "text/x-python",
   "name": "python",
   "nbconvert_exporter": "python",
   "pygments_lexer": "ipython3"
  }
 },
 "nbformat": 4,
 "nbformat_minor": 5
}
